{
 "cells": [
  {
   "cell_type": "markdown",
   "metadata": {},
   "source": [
    "# پروژه 5 فاز 1\n",
    "# شبکه های عصبی\n",
    "## امیرمهدی محمدیان\n",
    "## 810197651\n",
    "\n",
    "در این پروژه قصد داریم که یک شبکه عصبی بسازیم و داده های هجا در خط هیرگانا را بتونیم تشخیص بدیم\n",
    "\n",
    "برای اینکار به ما کد ناقصی از این شبکه عصبی داده شده است که باید آن را کامل کنیم\n",
    "\n",
    "سپس با تحلیل و امتحان کردن متغیر های مختلف از جمله اکتیویشن فانکشن ها و بچ سایز و لرنینگ ریت و... ببنیم که هرکدام چه تاثیری روی نتایج ما میگذارد"
   ]
  },
  {
   "cell_type": "code",
   "execution_count": 164,
   "metadata": {},
   "outputs": [],
   "source": [
    "import numpy as np\n",
    "import pandas as pd\n",
    "import matplotlib.pyplot as plt\n",
    "import matplotlib.image as mpimg\n",
    "import random"
   ]
  },
  {
   "cell_type": "markdown",
   "metadata": {},
   "source": [
    "# Dataloader"
   ]
  },
  {
   "cell_type": "code",
   "execution_count": 434,
   "metadata": {},
   "outputs": [],
   "source": [
    "class Dataloader:\n",
    "    \n",
    "    def __init__(self, data, labels, n_classes, batch_size=None, shuffle=False):\n",
    "\n",
    "        assert len(data)==len(labels)\n",
    "        self.__n_classes = n_classes\n",
    "        self.__batch_size = batch_size\n",
    "        self.__shuffle = shuffle\n",
    "        self.__data = data\n",
    "        self.__onehot_labels = self.__onehot(labels, self.__n_classes)\n",
    "    \n",
    "    def __onehot(self, labels, n_classes):\n",
    "        # TODO: Implement -------------------------------------------DONE-------------------------------------------\n",
    "        one_hot_vectors = np.zeros((labels.shape[0],labels['0'].max() + 1))\n",
    "        one_hot_vectors[np.arange(labels.size),labels['0']] = 1\n",
    "        return pd.DataFrame(one_hot_vectors)\n",
    "    \n",
    "    def __shuffle_dataset(self):\n",
    "        # TODO: Implement -------------------------------------------DONE-------------------------------------------\n",
    "        index = np.random.permutation(len(self.__data))\n",
    "        a = self.__data.iloc[index]\n",
    "        b = self.__onehot_labels.iloc[index]\n",
    "        self.__data = a\n",
    "        self.__onehot_labels = b\n",
    "        self.__data = self.__data.reset_index()\n",
    "        self.__onehot_labels = self.__onehot_labels.reset_index()\n",
    "        self.__data.drop(['index'], axis=1, inplace=True)\n",
    "        self.__onehot_labels.drop(['index'], axis=1, inplace=True)\n",
    "    \n",
    "    def __iter__(self):\n",
    "        \n",
    "        if self.__shuffle:\n",
    "            self.__shuffle_dataset()\n",
    "            \n",
    "        if self.__batch_size==None:\n",
    "            yield (np.matrix(self.__data), np.matrix(self.__onehot_labels))\n",
    "            return\n",
    "            \n",
    "        for idx in range(0, len(self.__data), self.__batch_size):\n",
    "            yield (np.matrix(self.__data[idx:idx+self.__batch_size]), \n",
    "                   np.matrix(self.__onehot_labels[idx:idx+self.__batch_size]))"
   ]
  },
  {
   "cell_type": "markdown",
   "metadata": {},
   "source": [
    "# Activation Functions"
   ]
  },
  {
   "cell_type": "code",
   "execution_count": 422,
   "metadata": {},
   "outputs": [],
   "source": [
    "class Identical:\n",
    "    \n",
    "    def __init__(self): pass\n",
    "    \n",
    "    def __val(self, matrix):\n",
    "        identical_value = np.matrix(matrix, dtype=float)\n",
    "        return identical_value\n",
    "\n",
    "    def derivative(self, matrix):\n",
    "        temp = np.matrix(matrix, dtype=float)\n",
    "        identical_derivative = np.matrix(np.full(np.shape(temp), 1.))\n",
    "        return identical_derivative\n",
    "    \n",
    "    def __call__(self, matrix):\n",
    "        return self.__val(matrix)\n",
    "    \n",
    "\n",
    "class Relu:\n",
    "    \n",
    "    def __init__(self): pass\n",
    "    \n",
    "    def __val(self, matrix):\n",
    "        # TODO: Implement -------------------------------------------DONE-------------------------------------------\n",
    "        relu_value = np.matrix(matrix, dtype=float)#got this part from the class above\n",
    "        relu_value[relu_value <= 0] = 0\n",
    "        return relu_value\n",
    "\n",
    "    def derivative(self, matrix):\n",
    "        # TODO: Implement -------------------------------------------DONE-------------------------------------------\n",
    "        ma = np.matrix(matrix, dtype=float) \n",
    "        ma[ma > 0] = 1\n",
    "        ma[ma < 0] = 0\n",
    "        return ma #relu_derivative\n",
    "    \n",
    "    def __call__(self, matrix):\n",
    "        return self.__val(matrix)\n",
    "\n",
    "    \n",
    "class LeakyRelu:\n",
    "    \n",
    "    def __init__(self, negative_slope=0.01):\n",
    "        self.negative_slope = 0.01\n",
    "    \n",
    "    def __val(self, matrix):\n",
    "        # TODO: Implement -------------------------------------------DONE-------------------------------------------\n",
    "        ma = np.matrix(matrix, dtype=float)\n",
    "        ma[ma < 0] = np.array(ma[ma < 0].dot(0.01))[0]\n",
    "        return ma #leacky_relu_value\n",
    "\n",
    "    def derivative(self, matrix):\n",
    "        # TODO: Implement -------------------------------------------DONE-------------------------------------------\n",
    "        ma = np.matrix(matrix, dtype=float)\n",
    "        ma[ma >= 0] = 1\n",
    "        ma[ma < 0] = 0.01\n",
    "        return ma\n",
    "    \n",
    "    def __call__(self, matrix):\n",
    "        return self.__val(matrix)\n",
    "\n",
    "    \n",
    "class Sigmoid:\n",
    "    \n",
    "    def __init__(self): pass\n",
    "\n",
    "    def __val(self, matrix):\n",
    "        # TODO: Implement -------------------------------------------DONE-------------------------------------------\n",
    "        ma = np.matrix(matrix, dtype=float)\n",
    "        sigmoid_value = 1/(1 + np.exp(-ma))\n",
    "        return sigmoid_value\n",
    "\n",
    "    def derivative(self, matrix):\n",
    "        # TODO: Implement -------------------------------------------DONE-------------------------------------------\n",
    "        ma = np.matrix(matrix, dtype=float)\n",
    "        sigmoid_derivative = np.multiply((1/(1 + np.exp(-ma))), (1 - (1/(1 + np.exp(-ma)))))\n",
    "        return sigmoid_derivative\n",
    "    \n",
    "    def __call__(self, matrix):\n",
    "        return self.__val(matrix)\n",
    "\n",
    "\n",
    "class Softmax:\n",
    "    \n",
    "    def __init__(self): pass\n",
    "\n",
    "    def __val(self, matrix):\n",
    "        # TODO: Implement -------------------------------------------DONE-------------------------------------------\n",
    "        #could need change\n",
    "        ma = np.matrix(matrix, dtype=float)\n",
    "        softmax_value =  np.exp(ma - ma.max(axis=1).reshape(-1,1)) / np.exp(ma - ma.max(axis=1).reshape(-1,1)).sum(axis=1).reshape(-1,1)\n",
    "        return softmax_value\n",
    "    \n",
    "    def __call__(self, matrix):\n",
    "        return self.__val(matrix)\n",
    "    \n",
    "class Tanh:\n",
    "    \n",
    "    def __init__(self): pass\n",
    "\n",
    "    def __val(self, matrix):\n",
    "        # TODO: Implement -------------------------------------------DONE-------------------------------------------\n",
    "        return np.tanh(np.matrix(matrix, dtype=float))\n",
    "\n",
    "    def derivative(self, matrix):\n",
    "        # TODO: Implement -------------------------------------------DONE-------------------------------------------\n",
    "        return (1 - np.multiply(np.tanh(np.matrix(matrix, dtype=float)), np.tanh(np.matrix(matrix, dtype=float)))) \n",
    "    \n",
    "    def __call__(self, matrix):\n",
    "        return self.__val(matrix)"
   ]
  },
  {
   "cell_type": "markdown",
   "metadata": {},
   "source": [
    "# Loss Function"
   ]
  },
  {
   "cell_type": "code",
   "execution_count": 390,
   "metadata": {},
   "outputs": [],
   "source": [
    "class CrossEntropy: #(with softmax)\n",
    "    \n",
    "    def __init__(self): pass\n",
    "\n",
    "    def __val(self, true_val, expected_val):\n",
    "        assert np.shape(true_val)==np.shape(expected_val)\n",
    "        # TODO: Implement -------------------------------------------DONE-------------------------------------------\n",
    "        ma = np.matrix(true_val, dtype=float)\n",
    "        val = Softmax().__call__(expected_val)\n",
    "        temp = np.multiply(ma, np.log(val))\n",
    "        return -np.sum(temp) #cross_entropy_value\n",
    "        \n",
    "    def derivative(self, true_val, expected_val):\n",
    "        assert np.shape(true_val)==np.shape(expected_val)\n",
    "        # TODO: Implement -------------------------------------------DONE-------------------------------------------\n",
    "        ma = np.matrix(true_val, dtype=float)\n",
    "        val = Softmax().__call__(expected_val)\n",
    "        return val - ma #cross_entropy_derivative\n",
    "    \n",
    "    def __call__(self, true_val, expected_val):\n",
    "        return self.__val(true_val, expected_val)"
   ]
  },
  {
   "cell_type": "markdown",
   "metadata": {},
   "source": [
    "# Layer"
   ]
  },
  {
   "cell_type": "code",
   "execution_count": 403,
   "metadata": {},
   "outputs": [],
   "source": [
    "class Layer:\n",
    "\n",
    "    DEFAULT_LOW, DEFAULT_HIGH, DEFAULT_MEAN, DEFAULT_VAR = 0, 0.05, 0., 1.\n",
    "  \n",
    "    def __init__(self, input_size, output_size, \n",
    "                 activation=Identical(), initial_weight='uniform', **initializing_parameters):\n",
    "        \n",
    "        assert type(initial_weight)==str, 'Undefined activation function!'\n",
    "        \n",
    "        self.__weight_initializer_dict = {'uniform':self.__uniform_weight, 'normal':self.__normal_weight}\n",
    "        \n",
    "        assert initial_weight in self.__weight_initializer_dict, 'Undefined weight initialization function!'\n",
    "\n",
    "\n",
    "        self.__n_neurons = output_size\n",
    "        weight_initializer = self.__weight_initializer_dict[initial_weight]\n",
    "        self.__weight = weight_initializer(input_size, self.__n_neurons, **initializing_parameters)\n",
    "        self.__bias = weight_initializer(1, self.__n_neurons, **initializing_parameters)\n",
    "        self.__activation = activation\n",
    "        \n",
    "        self.__last_input = None\n",
    "        self.__last_activation_input = None\n",
    "        self.__last_activation_output = None\n",
    "        self.__last_activation_derivative = None\n",
    "        \n",
    "    def output_getter(self):\n",
    "        return self.__last_activation_output\n",
    "        \n",
    "    def forward(self, layer_input):\n",
    "        assert np.ndim(layer_input)==2\n",
    "        assert np.size(self.__weight,0) == np.size(layer_input,1)\n",
    "        # TODO: Implement -------------------------------------------DONE-------------------------------------------\n",
    "        #copy could cause bug\n",
    "        self.__last_input = layer_input.copy()\n",
    "        self.__last_activation_input = np.dot(self.__last_input, self.__weight) + self.__bias\n",
    "        self.__last_activation_output = self.activation(self.__last_activation_input)\n",
    "        self.__last_activation_derivative = self.activation.derivative(self.__last_activation_input)\n",
    "        return self.__last_activation_output\n",
    "    \n",
    "    def update_weights(self, backprop_tensor, lr):\n",
    "        assert np.ndim(backprop_tensor)==2\n",
    "        assert np.size(backprop_tensor,0) == np.size(self.__last_activation_derivative,0)\n",
    "        assert np.size(backprop_tensor,1) == self.__n_neurons\n",
    "        # TODO: Implement -------------------------------------------DONE-------------------------------------------\n",
    "        #transpose could cause bug or -=\n",
    "        dy = np.multiply(backprop_tensor, self.__last_activation_derivative)\n",
    "        dw = np.matmul(self.__last_input.transpose(), dy)\n",
    "        backprop_tensor = np.matmul(dy, self.__weight.transpose())\n",
    "        self.__weight = self.__weight - lr * dw\n",
    "        db = np.matmul(np.matrix(np.zeros(dy.shape[0])) + 1, dy)\n",
    "        self.__bias = self.__bias - lr * db\n",
    "\n",
    "        return backprop_tensor\n",
    "\n",
    "    def __uniform_weight(self, dim1, dim2, **initializing_parameters):\n",
    "        low, high = self.DEFAULT_LOW, self.DEFAULT_HIGH\n",
    "        if 'low' in initializing_parameters.keys(): low = initializing_parameters['low']\n",
    "        if 'high' in initializing_parameters.keys(): high = initializing_parameters['high']\n",
    "        # TODO: Implement -------------------------------------------DONE-------------------------------------------\n",
    "        w = np.random.uniform(low, high, size=(dim1, dim2))\n",
    "        return w.reshape(dim1,dim2) #weights\n",
    "\n",
    "    def __normal_weight(self, dim1, dim2, **initializing_parameters):\n",
    "        mean, var = self.DEFAULT_MEAN, self.DEFAULT_VAR\n",
    "        if 'mean' in initializing_parameters.keys(): mean = initializing_parameters['mean']\n",
    "        if 'var' in initializing_parameters.keys(): var = initializing_parameters['var']\n",
    "        # TODO: Implement -------------------------------------------DONE-------------------------------------------\n",
    "        w = np.random.normal(mean, np.sqrt(var), size=(dim1, dim2))\n",
    "        return w #weights\n",
    "    \n",
    "    @property\n",
    "    def n_neurons(self): return self.__n_neurons\n",
    "    \n",
    "    @property\n",
    "    def weight(self): return self.__weight\n",
    "    \n",
    "    @property\n",
    "    def bias(self): return self.__bias\n",
    "    \n",
    "    @property\n",
    "    def activation(self): return self.__activation"
   ]
  },
  {
   "cell_type": "markdown",
   "metadata": {},
   "source": [
    "# Feed Forward Neural Network"
   ]
  },
  {
   "cell_type": "code",
   "execution_count": 392,
   "metadata": {},
   "outputs": [],
   "source": [
    "class FeedForwardNN:\n",
    "    \n",
    "    def __init__(self, input_shape):\n",
    "        \n",
    "        self.__input_shape = input_shape\n",
    "        self.__output_shape = None\n",
    "        \n",
    "        self.__layers_list = []\n",
    "        \n",
    "        self.__lr = None\n",
    "        self.__loss = None\n",
    "\n",
    "        \n",
    "    def add_layer(self, n_neurons, activation=Relu(), initial_weight='uniform', **initializing_parameters):\n",
    "         \n",
    "        assert type(n_neurons)==int, \"Invalid number of neurons for the layer!\"\n",
    "        assert n_neurons>0, \"Invalid number of neurons for the layer!\"\n",
    "        \n",
    "        n_prev_neurons = self.__input_shape if len(self.__layers_list)==0 else self.__layers_list[-1].n_neurons\n",
    "        new_layer = Layer(n_prev_neurons, n_neurons, activation, initial_weight, **initializing_parameters)\n",
    "        self.__layers_list.append(new_layer)\n",
    "        self.__output_shape = self.__layers_list[-1].n_neurons \n",
    "      \n",
    "    \n",
    "    def set_training_param(self, loss=CrossEntropy(), lr=1e-3):\n",
    "        assert self.__layers_list, \"Uncomplete model!\"\n",
    "        self.__loss = loss\n",
    "        self.__lr = lr\n",
    "    \n",
    "    \n",
    "    def forward(self, network_input):\n",
    "        assert type(self.__output_shape) != None, \"Model is not compiled!\"\n",
    "        # TODO: Implement -------------------------------------------DONE-------------------------------------------\n",
    "        network_output = network_input\n",
    "        for layer in self.__layers_list:\n",
    "            network_output = layer.forward(network_output)\n",
    "        return network_output\n",
    "    \n",
    "    \n",
    "    def fit(self, epochs, trainloader, testloader=None, print_results=True):\n",
    "        \n",
    "        assert type(self.__output_shape) != None, \"Model is not compiled!\"\n",
    "        assert type(self.__lr) != None and type(self.__loss) != None, \"Training paramenters are not set!\"\n",
    "\n",
    "        log = {\"train_accuracy\":[], \"train_loss\":[], \"test_accuracy\":[], \"test_loss\":[]}\n",
    "        \n",
    "        for epoch in range(1, epochs+1):\n",
    "            \n",
    "            if print_results: \n",
    "                print('Epoch {}:'.format(epoch))\n",
    "                \n",
    "            average_accuracy, average_loss = self.__train(trainloader)\n",
    "            log['train_accuracy'].append(average_accuracy)\n",
    "            log['train_loss'].append(average_loss)\n",
    "            if print_results:\n",
    "                print('\\tTrain: Average Accuracy: {}\\tAverage Loss: {}'.format(average_accuracy, average_loss))\n",
    "            \n",
    "            if type(testloader) != type(None):\n",
    "                average_accuracy, average_loss = self.__test(testloader)\n",
    "                log['test_accuracy'].append(average_accuracy)\n",
    "                log['test_loss'].append(average_loss)\n",
    "                if print_results:\n",
    "                    print('\\tTest: Average Accuracy: {}\\tAverage Loss: {}'.format(average_accuracy, average_loss))\n",
    "                    \n",
    "        return log\n",
    "    \n",
    "    \n",
    "    def __train(self, trainloader):\n",
    "        bach_accuracies, batch_losses = [], []\n",
    "        for x_train, y_train in trainloader:\n",
    "            batch_accuracy, batch_loss = self.__train_on_batch(x_train, y_train)\n",
    "            bach_accuracies.append(batch_accuracy)\n",
    "            batch_losses.append(batch_loss)\n",
    "        return np.mean(bach_accuracies), np.mean(batch_losses)\n",
    "    \n",
    "    \n",
    "    def __test(self, testloader):\n",
    "        bach_accuracies, batch_losses = [], []\n",
    "        for x_test, y_test in testloader:\n",
    "            batch_accuracy, batch_loss = self.__test_on_batch(x_test, y_test)\n",
    "            bach_accuracies.append(batch_accuracy)\n",
    "            batch_losses.append(batch_loss)\n",
    "        return np.mean(bach_accuracies), np.mean(batch_losses)\n",
    "\n",
    "    \n",
    "    def __train_on_batch(self, x_batch, y_batch):\n",
    "        # TODO: Implement -------------------------------------------DONE-------------------------------------------\n",
    "        out = self.forward(x_batch)\n",
    "        batch_average_loss = np.mean(self.__loss(out, y_batch))\n",
    "        batch_accuracy = self.__compute_accuracy(out, y_batch)\n",
    "        self.__update_weights(out, y_batch)       \n",
    "        return (batch_accuracy, batch_average_loss)\n",
    "        \n",
    "        \n",
    "    def __test_on_batch(self, x_batch, y_batch):\n",
    "        # TODO: Implement -------------------------------------------DONE-------------------------------------------\n",
    "        out = self.forward(x_batch)\n",
    "        batch_average_loss = self.__loss(out, y_batch).mean()\n",
    "        batch_accuracy = self.__compute_accuracy(out, y_batch)  \n",
    "        return (batch_accuracy, batch_average_loss)\n",
    "            \n",
    "        \n",
    "    def __get_labels(self, outputs):\n",
    "        # TODO: Implement -------------------------------------------DONE-------------------------------------------\n",
    "        labels = outputs.argmax(axis=1)\n",
    "        return labels\n",
    "    \n",
    "    \n",
    "    def __compute_accuracy(self, output, expected_output):\n",
    "        # TODO: Implement -------------------------------------------DONE-------------------------------------------\n",
    "        correct = (output.argmax(axis=1) == expected_output.argmax(axis=1)).sum()\n",
    "        return correct / len(output) #accuracy\n",
    "    \n",
    "    \n",
    "    def __update_weights(self, output, y_train):\n",
    "        # TODO: Implement -------------------------------------------DONE-------------------------------------------\n",
    "        deriv = self.__loss.derivative(y_train,output)\n",
    "        for i in reversed(range(len(self.__layers_list))):\n",
    "            deriv = self.__layers_list[i].update_weights(deriv, self.__lr)\n",
    "        return"
   ]
  },
  {
   "cell_type": "markdown",
   "metadata": {},
   "source": [
    "# Phase #1"
   ]
  },
  {
   "cell_type": "code",
   "execution_count": 44,
   "metadata": {},
   "outputs": [],
   "source": [
    "train = pd.read_csv('./dataset/train_images.csv')\n",
    "trainlabel = pd.read_csv('./dataset/train_labels.csv')\n",
    "test = pd.read_csv('./dataset/test_images.csv')\n",
    "testlabel = pd.read_csv('./dataset/test_labels.csv')"
   ]
  },
  {
   "cell_type": "markdown",
   "metadata": {},
   "source": [
    "برای اینکه پس از ایجاد دیتا فریم ها، تغییرات باعث ایجاد مشکل نشوند یک کپی از هرکدام نگه میداریم"
   ]
  },
  {
   "cell_type": "code",
   "execution_count": 240,
   "metadata": {},
   "outputs": [],
   "source": [
    "df = train.copy()\n",
    "dfl = trainlabel.copy()\n",
    "dft = test.copy()\n",
    "dftl = testlabel.copy()"
   ]
  },
  {
   "cell_type": "code",
   "execution_count": 242,
   "metadata": {},
   "outputs": [],
   "source": [
    "df = df.drop(['Unnamed: 0'], axis = 1)\n",
    "dfl = dfl.drop(['Unnamed: 0'], axis = 1)\n",
    "dft = dft.drop(['Unnamed: 0'], axis = 1)\n",
    "dftl = dftl.drop(['Unnamed: 0'], axis = 1)"
   ]
  },
  {
   "cell_type": "code",
   "execution_count": 243,
   "metadata": {
    "scrolled": true
   },
   "outputs": [
    {
     "data": {
      "text/html": [
       "<div>\n",
       "<style scoped>\n",
       "    .dataframe tbody tr th:only-of-type {\n",
       "        vertical-align: middle;\n",
       "    }\n",
       "\n",
       "    .dataframe tbody tr th {\n",
       "        vertical-align: top;\n",
       "    }\n",
       "\n",
       "    .dataframe thead th {\n",
       "        text-align: right;\n",
       "    }\n",
       "</style>\n",
       "<table border=\"1\" class=\"dataframe\">\n",
       "  <thead>\n",
       "    <tr style=\"text-align: right;\">\n",
       "      <th></th>\n",
       "      <th>Unnamed: 0</th>\n",
       "      <th>0</th>\n",
       "    </tr>\n",
       "  </thead>\n",
       "  <tbody>\n",
       "    <tr>\n",
       "      <th>0</th>\n",
       "      <td>0</td>\n",
       "      <td>19</td>\n",
       "    </tr>\n",
       "    <tr>\n",
       "      <th>1</th>\n",
       "      <td>1</td>\n",
       "      <td>7</td>\n",
       "    </tr>\n",
       "    <tr>\n",
       "      <th>2</th>\n",
       "      <td>2</td>\n",
       "      <td>4</td>\n",
       "    </tr>\n",
       "    <tr>\n",
       "      <th>3</th>\n",
       "      <td>3</td>\n",
       "      <td>15</td>\n",
       "    </tr>\n",
       "    <tr>\n",
       "      <th>4</th>\n",
       "      <td>4</td>\n",
       "      <td>12</td>\n",
       "    </tr>\n",
       "    <tr>\n",
       "      <th>...</th>\n",
       "      <td>...</td>\n",
       "      <td>...</td>\n",
       "    </tr>\n",
       "    <tr>\n",
       "      <th>59995</th>\n",
       "      <td>59995</td>\n",
       "      <td>12</td>\n",
       "    </tr>\n",
       "    <tr>\n",
       "      <th>59996</th>\n",
       "      <td>59996</td>\n",
       "      <td>15</td>\n",
       "    </tr>\n",
       "    <tr>\n",
       "      <th>59997</th>\n",
       "      <td>59997</td>\n",
       "      <td>2</td>\n",
       "    </tr>\n",
       "    <tr>\n",
       "      <th>59998</th>\n",
       "      <td>59998</td>\n",
       "      <td>7</td>\n",
       "    </tr>\n",
       "    <tr>\n",
       "      <th>59999</th>\n",
       "      <td>59999</td>\n",
       "      <td>11</td>\n",
       "    </tr>\n",
       "  </tbody>\n",
       "</table>\n",
       "<p>60000 rows × 2 columns</p>\n",
       "</div>"
      ],
      "text/plain": [
       "       Unnamed: 0   0\n",
       "0               0  19\n",
       "1               1   7\n",
       "2               2   4\n",
       "3               3  15\n",
       "4               4  12\n",
       "...           ...  ..\n",
       "59995       59995  12\n",
       "59996       59996  15\n",
       "59997       59997   2\n",
       "59998       59998   7\n",
       "59999       59999  11\n",
       "\n",
       "[60000 rows x 2 columns]"
      ]
     },
     "execution_count": 243,
     "metadata": {},
     "output_type": "execute_result"
    }
   ],
   "source": [
    "trainlabel"
   ]
  },
  {
   "cell_type": "markdown",
   "metadata": {},
   "source": [
    "تابعی مینویسیم که با استفاده از آن بتوانیم یک تصویر را نمایش بدهیم"
   ]
  },
  {
   "cell_type": "code",
   "execution_count": 118,
   "metadata": {},
   "outputs": [],
   "source": [
    "def display(img):  \n",
    "    img = np.reshape(img, (28, 28))\n",
    "    plt.imshow(img, cmap='gray')\n",
    "    plt.show()"
   ]
  },
  {
   "cell_type": "markdown",
   "metadata": {},
   "source": [
    "یک تصویر به دلخواه انتخاب کرده، آن را نمایش داده و محدوده پیکسل ها را درمیاوریم:"
   ]
  },
  {
   "cell_type": "code",
   "execution_count": 124,
   "metadata": {},
   "outputs": [
    {
     "name": "stdout",
     "output_type": "stream",
     "text": [
      "min range of pixle activation:  0\n",
      "max range of pixle activation:  255\n"
     ]
    },
    {
     "data": {
      "image/png": "[encoded data removed]",
      "text/plain": [
       "<Figure size 432x288 with 1 Axes>"
      ]
     },
     "metadata": {
      "needs_background": "light"
     },
     "output_type": "display_data"
    }
   ],
   "source": [
    "random_img = random.randint(0, 60000)\n",
    "img = train.iloc[random_img].to_numpy()\n",
    "img = np.delete(img, 0)\n",
    "print(\"min range of pixle activation: \", np.amin(img))\n",
    "print(\"max range of pixle activation: \", np.amax(img))\n",
    "display(img)"
   ]
  },
  {
   "cell_type": "markdown",
   "metadata": {},
   "source": [
    "حال از هر کلاس یک تصویر را نمایش میدهیم"
   ]
  },
  {
   "cell_type": "code",
   "execution_count": 114,
   "metadata": {},
   "outputs": [
    {
     "name": "stdout",
     "output_type": "stream",
     "text": [
      "\n",
      "\t====== Class: 0 ======\n"
     ]
    },
    {
     "data": {
      "image/png": "[encoded data removed]",
      "text/plain": [
       "<Figure size 432x288 with 1 Axes>"
      ]
     },
     "metadata": {
      "needs_background": "light"
     },
     "output_type": "display_data"
    },
    {
     "name": "stdout",
     "output_type": "stream",
     "text": [
      "\n",
      "\t====== Class: 1 ======\n"
     ]
    },
    {
     "data": {
      "image/png": "[encoded data removed]",
      "text/plain": [
       "<Figure size 432x288 with 1 Axes>"
      ]
     },
     "metadata": {
      "needs_background": "light"
     },
     "output_type": "display_data"
    },
    {
     "name": "stdout",
     "output_type": "stream",
     "text": [
      "\n",
      "\t====== Class: 2 ======\n"
     ]
    },
    {
     "data": {
      "image/png": "[encoded data removed]",
      "text/plain": [
       "<Figure size 432x288 with 1 Axes>"
      ]
     },
     "metadata": {
      "needs_background": "light"
     },
     "output_type": "display_data"
    },
    {
     "name": "stdout",
     "output_type": "stream",
     "text": [
      "\n",
      "\t====== Class: 3 ======\n"
     ]
    },
    {
     "data": {
      "image/png": "[encoded data removed]",
      "text/plain": [
       "<Figure size 432x288 with 1 Axes>"
      ]
     },
     "metadata": {
      "needs_background": "light"
     },
     "output_type": "display_data"
    },
    {
     "name": "stdout",
     "output_type": "stream",
     "text": [
      "\n",
      "\t====== Class: 4 ======\n"
     ]
    },
    {
     "data": {
      "image/png": "[encoded data removed]",
      "text/plain": [
       "<Figure size 432x288 with 1 Axes>"
      ]
     },
     "metadata": {
      "needs_background": "light"
     },
     "output_type": "display_data"
    },
    {
     "name": "stdout",
     "output_type": "stream",
     "text": [
      "\n",
      "\t====== Class: 5 ======\n"
     ]
    },
    {
     "data": {
      "image/png": "[encoded data removed]",
      "text/plain": [
       "<Figure size 432x288 with 1 Axes>"
      ]
     },
     "metadata": {
      "needs_background": "light"
     },
     "output_type": "display_data"
    },
    {
     "name": "stdout",
     "output_type": "stream",
     "text": [
      "\n",
      "\t====== Class: 6 ======\n"
     ]
    },
    {
     "data": {
      "image/png": "[encoded data removed]",
      "text/plain": [
       "<Figure size 432x288 with 1 Axes>"
      ]
     },
     "metadata": {
      "needs_background": "light"
     },
     "output_type": "display_data"
    },
    {
     "name": "stdout",
     "output_type": "stream",
     "text": [
      "\n",
      "\t====== Class: 7 ======\n"
     ]
    },
    {
     "data": {
      "image/png": "[encoded data removed]",
      "text/plain": [
       "<Figure size 432x288 with 1 Axes>"
      ]
     },
     "metadata": {
      "needs_background": "light"
     },
     "output_type": "display_data"
    },
    {
     "name": "stdout",
     "output_type": "stream",
     "text": [
      "\n",
      "\t====== Class: 8 ======\n"
     ]
    },
    {
     "data": {
      "image/png": "[encoded data removed]",
      "text/plain": [
       "<Figure size 432x288 with 1 Axes>"
      ]
     },
     "metadata": {
      "needs_background": "light"
     },
     "output_type": "display_data"
    },
    {
     "name": "stdout",
     "output_type": "stream",
     "text": [
      "\n",
      "\t====== Class: 9 ======\n"
     ]
    },
    {
     "data": {
      "image/png": "[encoded data removed]",
      "text/plain": [
       "<Figure size 432x288 with 1 Axes>"
      ]
     },
     "metadata": {
      "needs_background": "light"
     },
     "output_type": "display_data"
    },
    {
     "name": "stdout",
     "output_type": "stream",
     "text": [
      "\n",
      "\t====== Class: 10 ======\n"
     ]
    },
    {
     "data": {
      "image/png": "[encoded data removed]",
      "text/plain": [
       "<Figure size 432x288 with 1 Axes>"
      ]
     },
     "metadata": {
      "needs_background": "light"
     },
     "output_type": "display_data"
    },
    {
     "name": "stdout",
     "output_type": "stream",
     "text": [
      "\n",
      "\t====== Class: 11 ======\n"
     ]
    },
    {
     "data": {
      "image/png": "[encoded data removed]",
      "text/plain": [
       "<Figure size 432x288 with 1 Axes>"
      ]
     },
     "metadata": {
      "needs_background": "light"
     },
     "output_type": "display_data"
    },
    {
     "name": "stdout",
     "output_type": "stream",
     "text": [
      "\n",
      "\t====== Class: 12 ======\n"
     ]
    },
    {
     "data": {
      "image/png": "[encoded data removed]",
      "text/plain": [
       "<Figure size 432x288 with 1 Axes>"
      ]
     },
     "metadata": {
      "needs_background": "light"
     },
     "output_type": "display_data"
    },
    {
     "name": "stdout",
     "output_type": "stream",
     "text": [
      "\n",
      "\t====== Class: 13 ======\n"
     ]
    },
    {
     "data": {
      "image/png": "[encoded data removed]",
      "text/plain": [
       "<Figure size 432x288 with 1 Axes>"
      ]
     },
     "metadata": {
      "needs_background": "light"
     },
     "output_type": "display_data"
    },
    {
     "name": "stdout",
     "output_type": "stream",
     "text": [
      "\n",
      "\t====== Class: 14 ======\n"
     ]
    },
    {
     "data": {
      "image/png": "[encoded data removed]",
      "text/plain": [
       "<Figure size 432x288 with 1 Axes>"
      ]
     },
     "metadata": {
      "needs_background": "light"
     },
     "output_type": "display_data"
    },
    {
     "name": "stdout",
     "output_type": "stream",
     "text": [
      "\n",
      "\t====== Class: 15 ======\n"
     ]
    },
    {
     "data": {
      "image/png": "[encoded data removed]",
      "text/plain": [
       "<Figure size 432x288 with 1 Axes>"
      ]
     },
     "metadata": {
      "needs_background": "light"
     },
     "output_type": "display_data"
    },
    {
     "name": "stdout",
     "output_type": "stream",
     "text": [
      "\n",
      "\t====== Class: 16 ======\n"
     ]
    },
    {
     "data": {
      "image/png": "[encoded data removed]",
      "text/plain": [
       "<Figure size 432x288 with 1 Axes>"
      ]
     },
     "metadata": {
      "needs_background": "light"
     },
     "output_type": "display_data"
    },
    {
     "name": "stdout",
     "output_type": "stream",
     "text": [
      "\n",
      "\t====== Class: 17 ======\n"
     ]
    },
    {
     "data": {
      "image/png": "[encoded data removed]",
      "text/plain": [
       "<Figure size 432x288 with 1 Axes>"
      ]
     },
     "metadata": {
      "needs_background": "light"
     },
     "output_type": "display_data"
    },
    {
     "name": "stdout",
     "output_type": "stream",
     "text": [
      "\n",
      "\t====== Class: 18 ======\n"
     ]
    },
    {
     "data": {
      "image/png": "[encoded data removed]",
      "text/plain": [
       "<Figure size 432x288 with 1 Axes>"
      ]
     },
     "metadata": {
      "needs_background": "light"
     },
     "output_type": "display_data"
    },
    {
     "name": "stdout",
     "output_type": "stream",
     "text": [
      "\n",
      "\t====== Class: 19 ======\n"
     ]
    },
    {
     "data": {
      "image/png": "[encoded data removed]",
      "text/plain": [
       "<Figure size 432x288 with 1 Axes>"
      ]
     },
     "metadata": {
      "needs_background": "light"
     },
     "output_type": "display_data"
    }
   ],
   "source": [
    "for cls in range(20):\n",
    "    for j in range(len(train)):\n",
    "        if (trainlabel.iloc[j]['0'] == cls):\n",
    "            print(\"\\n\\t====== Class:\",cls,\"======\")\n",
    "            row = (train.iloc[j].to_numpy())\n",
    "            row = np.delete(row, 0)\n",
    "            display(row)\n",
    "            break"
   ]
  },
  {
   "cell_type": "markdown",
   "metadata": {},
   "source": [
    "تعداد تصاویر هر دسته در داده ی ترین و تست"
   ]
  },
  {
   "cell_type": "code",
   "execution_count": 152,
   "metadata": {
    "scrolled": true
   },
   "outputs": [
    {
     "name": "stdout",
     "output_type": "stream",
     "text": [
      "Blue is Train\n",
      "Orange is Test\n"
     ]
    },
    {
     "data": {
      "image/png": "[encoded data removed]",
      "text/plain": [
       "<Figure size 432x288 with 1 Axes>"
      ]
     },
     "metadata": {
      "needs_background": "light"
     },
     "output_type": "display_data"
    }
   ],
   "source": [
    "train_value_count = dict(trainlabel['0'].value_counts())\n",
    "test_value_count = dict(testlabel['0'].value_counts())\n",
    "\n",
    "#for train\n",
    "keys = train_value_count.keys()\n",
    "values = train_value_count.values()\n",
    "plt.bar(keys, values)\n",
    "\n",
    "#for test\n",
    "keys = test_value_count.keys()\n",
    "values = test_value_count.values()\n",
    "plt.bar(keys, values)\n",
    "\n",
    "print(\"Blue is Train\")\n",
    "print(\"Orange is Test\")"
   ]
  },
  {
   "cell_type": "markdown",
   "metadata": {},
   "source": [
    "حالا از ما خواسته شده که داده ها را طوری اسکیل کنیم که اعداد بین 0 و 1 باشند\n",
    "\n",
    "یعنی روشنی هر پیکسل بین 0 و 1 باشد\n",
    "\n"
   ]
  },
  {
   "cell_type": "code",
   "execution_count": 245,
   "metadata": {},
   "outputs": [],
   "source": [
    "df /= 255\n",
    "dft /= 255"
   ]
  },
  {
   "cell_type": "code",
   "execution_count": 246,
   "metadata": {},
   "outputs": [
    {
     "data": {
      "text/html": [
       "<div>\n",
       "<style scoped>\n",
       "    .dataframe tbody tr th:only-of-type {\n",
       "        vertical-align: middle;\n",
       "    }\n",
       "\n",
       "    .dataframe tbody tr th {\n",
       "        vertical-align: top;\n",
       "    }\n",
       "\n",
       "    .dataframe thead th {\n",
       "        text-align: right;\n",
       "    }\n",
       "</style>\n",
       "<table border=\"1\" class=\"dataframe\">\n",
       "  <thead>\n",
       "    <tr style=\"text-align: right;\">\n",
       "      <th></th>\n",
       "      <th>0</th>\n",
       "      <th>1</th>\n",
       "      <th>2</th>\n",
       "      <th>3</th>\n",
       "      <th>4</th>\n",
       "      <th>5</th>\n",
       "      <th>6</th>\n",
       "      <th>7</th>\n",
       "      <th>8</th>\n",
       "      <th>9</th>\n",
       "      <th>...</th>\n",
       "      <th>774</th>\n",
       "      <th>775</th>\n",
       "      <th>776</th>\n",
       "      <th>777</th>\n",
       "      <th>778</th>\n",
       "      <th>779</th>\n",
       "      <th>780</th>\n",
       "      <th>781</th>\n",
       "      <th>782</th>\n",
       "      <th>783</th>\n",
       "    </tr>\n",
       "  </thead>\n",
       "  <tbody>\n",
       "    <tr>\n",
       "      <th>0</th>\n",
       "      <td>0.00000</td>\n",
       "      <td>0.000000</td>\n",
       "      <td>0.000000</td>\n",
       "      <td>0.000000</td>\n",
       "      <td>0.000000</td>\n",
       "      <td>0.000000</td>\n",
       "      <td>0.0</td>\n",
       "      <td>0.0</td>\n",
       "      <td>0.000000</td>\n",
       "      <td>0.000000</td>\n",
       "      <td>...</td>\n",
       "      <td>0.043137</td>\n",
       "      <td>0.011765</td>\n",
       "      <td>0.043137</td>\n",
       "      <td>0.007843</td>\n",
       "      <td>0.0</td>\n",
       "      <td>0.0</td>\n",
       "      <td>0.0</td>\n",
       "      <td>0.0</td>\n",
       "      <td>0.0</td>\n",
       "      <td>0.0</td>\n",
       "    </tr>\n",
       "    <tr>\n",
       "      <th>1</th>\n",
       "      <td>0.00000</td>\n",
       "      <td>0.000000</td>\n",
       "      <td>0.000000</td>\n",
       "      <td>0.000000</td>\n",
       "      <td>0.000000</td>\n",
       "      <td>0.000000</td>\n",
       "      <td>0.0</td>\n",
       "      <td>0.0</td>\n",
       "      <td>0.000000</td>\n",
       "      <td>0.000000</td>\n",
       "      <td>...</td>\n",
       "      <td>0.000000</td>\n",
       "      <td>0.090196</td>\n",
       "      <td>0.647059</td>\n",
       "      <td>0.141176</td>\n",
       "      <td>0.0</td>\n",
       "      <td>0.0</td>\n",
       "      <td>0.0</td>\n",
       "      <td>0.0</td>\n",
       "      <td>0.0</td>\n",
       "      <td>0.0</td>\n",
       "    </tr>\n",
       "    <tr>\n",
       "      <th>2</th>\n",
       "      <td>0.00000</td>\n",
       "      <td>0.000000</td>\n",
       "      <td>0.000000</td>\n",
       "      <td>0.000000</td>\n",
       "      <td>0.000000</td>\n",
       "      <td>0.000000</td>\n",
       "      <td>0.0</td>\n",
       "      <td>0.0</td>\n",
       "      <td>0.000000</td>\n",
       "      <td>0.000000</td>\n",
       "      <td>...</td>\n",
       "      <td>0.000000</td>\n",
       "      <td>0.000000</td>\n",
       "      <td>0.000000</td>\n",
       "      <td>0.000000</td>\n",
       "      <td>0.0</td>\n",
       "      <td>0.0</td>\n",
       "      <td>0.0</td>\n",
       "      <td>0.0</td>\n",
       "      <td>0.0</td>\n",
       "      <td>0.0</td>\n",
       "    </tr>\n",
       "    <tr>\n",
       "      <th>3</th>\n",
       "      <td>0.05098</td>\n",
       "      <td>0.196078</td>\n",
       "      <td>0.184314</td>\n",
       "      <td>0.219608</td>\n",
       "      <td>0.368627</td>\n",
       "      <td>0.141176</td>\n",
       "      <td>0.0</td>\n",
       "      <td>0.0</td>\n",
       "      <td>0.000000</td>\n",
       "      <td>0.000000</td>\n",
       "      <td>...</td>\n",
       "      <td>0.000000</td>\n",
       "      <td>0.000000</td>\n",
       "      <td>0.000000</td>\n",
       "      <td>0.000000</td>\n",
       "      <td>0.0</td>\n",
       "      <td>0.0</td>\n",
       "      <td>0.0</td>\n",
       "      <td>0.0</td>\n",
       "      <td>0.0</td>\n",
       "      <td>0.0</td>\n",
       "    </tr>\n",
       "    <tr>\n",
       "      <th>4</th>\n",
       "      <td>0.00000</td>\n",
       "      <td>0.000000</td>\n",
       "      <td>0.000000</td>\n",
       "      <td>0.000000</td>\n",
       "      <td>0.000000</td>\n",
       "      <td>0.000000</td>\n",
       "      <td>0.0</td>\n",
       "      <td>0.0</td>\n",
       "      <td>0.000000</td>\n",
       "      <td>0.000000</td>\n",
       "      <td>...</td>\n",
       "      <td>0.000000</td>\n",
       "      <td>0.000000</td>\n",
       "      <td>0.000000</td>\n",
       "      <td>0.000000</td>\n",
       "      <td>0.0</td>\n",
       "      <td>0.0</td>\n",
       "      <td>0.0</td>\n",
       "      <td>0.0</td>\n",
       "      <td>0.0</td>\n",
       "      <td>0.0</td>\n",
       "    </tr>\n",
       "    <tr>\n",
       "      <th>...</th>\n",
       "      <td>...</td>\n",
       "      <td>...</td>\n",
       "      <td>...</td>\n",
       "      <td>...</td>\n",
       "      <td>...</td>\n",
       "      <td>...</td>\n",
       "      <td>...</td>\n",
       "      <td>...</td>\n",
       "      <td>...</td>\n",
       "      <td>...</td>\n",
       "      <td>...</td>\n",
       "      <td>...</td>\n",
       "      <td>...</td>\n",
       "      <td>...</td>\n",
       "      <td>...</td>\n",
       "      <td>...</td>\n",
       "      <td>...</td>\n",
       "      <td>...</td>\n",
       "      <td>...</td>\n",
       "      <td>...</td>\n",
       "      <td>...</td>\n",
       "    </tr>\n",
       "    <tr>\n",
       "      <th>59995</th>\n",
       "      <td>0.00000</td>\n",
       "      <td>0.000000</td>\n",
       "      <td>0.000000</td>\n",
       "      <td>0.000000</td>\n",
       "      <td>0.000000</td>\n",
       "      <td>0.000000</td>\n",
       "      <td>0.0</td>\n",
       "      <td>0.0</td>\n",
       "      <td>0.015686</td>\n",
       "      <td>0.619608</td>\n",
       "      <td>...</td>\n",
       "      <td>1.000000</td>\n",
       "      <td>0.968627</td>\n",
       "      <td>0.768627</td>\n",
       "      <td>0.000000</td>\n",
       "      <td>0.0</td>\n",
       "      <td>0.0</td>\n",
       "      <td>0.0</td>\n",
       "      <td>0.0</td>\n",
       "      <td>0.0</td>\n",
       "      <td>0.0</td>\n",
       "    </tr>\n",
       "    <tr>\n",
       "      <th>59996</th>\n",
       "      <td>0.00000</td>\n",
       "      <td>0.000000</td>\n",
       "      <td>0.000000</td>\n",
       "      <td>0.000000</td>\n",
       "      <td>0.000000</td>\n",
       "      <td>0.000000</td>\n",
       "      <td>0.0</td>\n",
       "      <td>0.0</td>\n",
       "      <td>0.000000</td>\n",
       "      <td>0.000000</td>\n",
       "      <td>...</td>\n",
       "      <td>0.000000</td>\n",
       "      <td>0.000000</td>\n",
       "      <td>0.000000</td>\n",
       "      <td>0.000000</td>\n",
       "      <td>0.0</td>\n",
       "      <td>0.0</td>\n",
       "      <td>0.0</td>\n",
       "      <td>0.0</td>\n",
       "      <td>0.0</td>\n",
       "      <td>0.0</td>\n",
       "    </tr>\n",
       "    <tr>\n",
       "      <th>59997</th>\n",
       "      <td>0.00000</td>\n",
       "      <td>0.000000</td>\n",
       "      <td>0.000000</td>\n",
       "      <td>0.000000</td>\n",
       "      <td>0.000000</td>\n",
       "      <td>0.000000</td>\n",
       "      <td>0.0</td>\n",
       "      <td>0.0</td>\n",
       "      <td>0.000000</td>\n",
       "      <td>0.000000</td>\n",
       "      <td>...</td>\n",
       "      <td>1.000000</td>\n",
       "      <td>1.000000</td>\n",
       "      <td>0.298039</td>\n",
       "      <td>0.000000</td>\n",
       "      <td>0.0</td>\n",
       "      <td>0.0</td>\n",
       "      <td>0.0</td>\n",
       "      <td>0.0</td>\n",
       "      <td>0.0</td>\n",
       "      <td>0.0</td>\n",
       "    </tr>\n",
       "    <tr>\n",
       "      <th>59998</th>\n",
       "      <td>0.00000</td>\n",
       "      <td>0.000000</td>\n",
       "      <td>0.000000</td>\n",
       "      <td>0.000000</td>\n",
       "      <td>0.000000</td>\n",
       "      <td>0.000000</td>\n",
       "      <td>0.0</td>\n",
       "      <td>0.0</td>\n",
       "      <td>0.000000</td>\n",
       "      <td>0.000000</td>\n",
       "      <td>...</td>\n",
       "      <td>0.000000</td>\n",
       "      <td>0.000000</td>\n",
       "      <td>0.000000</td>\n",
       "      <td>0.000000</td>\n",
       "      <td>0.0</td>\n",
       "      <td>0.0</td>\n",
       "      <td>0.0</td>\n",
       "      <td>0.0</td>\n",
       "      <td>0.0</td>\n",
       "      <td>0.0</td>\n",
       "    </tr>\n",
       "    <tr>\n",
       "      <th>59999</th>\n",
       "      <td>0.00000</td>\n",
       "      <td>0.000000</td>\n",
       "      <td>0.000000</td>\n",
       "      <td>0.000000</td>\n",
       "      <td>0.000000</td>\n",
       "      <td>0.000000</td>\n",
       "      <td>0.0</td>\n",
       "      <td>0.0</td>\n",
       "      <td>0.000000</td>\n",
       "      <td>0.000000</td>\n",
       "      <td>...</td>\n",
       "      <td>0.000000</td>\n",
       "      <td>0.000000</td>\n",
       "      <td>0.000000</td>\n",
       "      <td>0.000000</td>\n",
       "      <td>0.0</td>\n",
       "      <td>0.0</td>\n",
       "      <td>0.0</td>\n",
       "      <td>0.0</td>\n",
       "      <td>0.0</td>\n",
       "      <td>0.0</td>\n",
       "    </tr>\n",
       "  </tbody>\n",
       "</table>\n",
       "<p>60000 rows × 784 columns</p>\n",
       "</div>"
      ],
      "text/plain": [
       "             0         1         2         3         4         5    6    7  \\\n",
       "0      0.00000  0.000000  0.000000  0.000000  0.000000  0.000000  0.0  0.0   \n",
       "1      0.00000  0.000000  0.000000  0.000000  0.000000  0.000000  0.0  0.0   \n",
       "2      0.00000  0.000000  0.000000  0.000000  0.000000  0.000000  0.0  0.0   \n",
       "3      0.05098  0.196078  0.184314  0.219608  0.368627  0.141176  0.0  0.0   \n",
       "4      0.00000  0.000000  0.000000  0.000000  0.000000  0.000000  0.0  0.0   \n",
       "...        ...       ...       ...       ...       ...       ...  ...  ...   \n",
       "59995  0.00000  0.000000  0.000000  0.000000  0.000000  0.000000  0.0  0.0   \n",
       "59996  0.00000  0.000000  0.000000  0.000000  0.000000  0.000000  0.0  0.0   \n",
       "59997  0.00000  0.000000  0.000000  0.000000  0.000000  0.000000  0.0  0.0   \n",
       "59998  0.00000  0.000000  0.000000  0.000000  0.000000  0.000000  0.0  0.0   \n",
       "59999  0.00000  0.000000  0.000000  0.000000  0.000000  0.000000  0.0  0.0   \n",
       "\n",
       "              8         9  ...       774       775       776       777  778  \\\n",
       "0      0.000000  0.000000  ...  0.043137  0.011765  0.043137  0.007843  0.0   \n",
       "1      0.000000  0.000000  ...  0.000000  0.090196  0.647059  0.141176  0.0   \n",
       "2      0.000000  0.000000  ...  0.000000  0.000000  0.000000  0.000000  0.0   \n",
       "3      0.000000  0.000000  ...  0.000000  0.000000  0.000000  0.000000  0.0   \n",
       "4      0.000000  0.000000  ...  0.000000  0.000000  0.000000  0.000000  0.0   \n",
       "...         ...       ...  ...       ...       ...       ...       ...  ...   \n",
       "59995  0.015686  0.619608  ...  1.000000  0.968627  0.768627  0.000000  0.0   \n",
       "59996  0.000000  0.000000  ...  0.000000  0.000000  0.000000  0.000000  0.0   \n",
       "59997  0.000000  0.000000  ...  1.000000  1.000000  0.298039  0.000000  0.0   \n",
       "59998  0.000000  0.000000  ...  0.000000  0.000000  0.000000  0.000000  0.0   \n",
       "59999  0.000000  0.000000  ...  0.000000  0.000000  0.000000  0.000000  0.0   \n",
       "\n",
       "       779  780  781  782  783  \n",
       "0      0.0  0.0  0.0  0.0  0.0  \n",
       "1      0.0  0.0  0.0  0.0  0.0  \n",
       "2      0.0  0.0  0.0  0.0  0.0  \n",
       "3      0.0  0.0  0.0  0.0  0.0  \n",
       "4      0.0  0.0  0.0  0.0  0.0  \n",
       "...    ...  ...  ...  ...  ...  \n",
       "59995  0.0  0.0  0.0  0.0  0.0  \n",
       "59996  0.0  0.0  0.0  0.0  0.0  \n",
       "59997  0.0  0.0  0.0  0.0  0.0  \n",
       "59998  0.0  0.0  0.0  0.0  0.0  \n",
       "59999  0.0  0.0  0.0  0.0  0.0  \n",
       "\n",
       "[60000 rows x 784 columns]"
      ]
     },
     "execution_count": 246,
     "metadata": {},
     "output_type": "execute_result"
    }
   ],
   "source": [
    "df"
   ]
  },
  {
   "cell_type": "code",
   "execution_count": 247,
   "metadata": {},
   "outputs": [
    {
     "data": {
      "text/html": [
       "<div>\n",
       "<style scoped>\n",
       "    .dataframe tbody tr th:only-of-type {\n",
       "        vertical-align: middle;\n",
       "    }\n",
       "\n",
       "    .dataframe tbody tr th {\n",
       "        vertical-align: top;\n",
       "    }\n",
       "\n",
       "    .dataframe thead th {\n",
       "        text-align: right;\n",
       "    }\n",
       "</style>\n",
       "<table border=\"1\" class=\"dataframe\">\n",
       "  <thead>\n",
       "    <tr style=\"text-align: right;\">\n",
       "      <th></th>\n",
       "      <th>0</th>\n",
       "      <th>1</th>\n",
       "      <th>2</th>\n",
       "      <th>3</th>\n",
       "      <th>4</th>\n",
       "      <th>5</th>\n",
       "      <th>6</th>\n",
       "      <th>7</th>\n",
       "      <th>8</th>\n",
       "      <th>9</th>\n",
       "      <th>...</th>\n",
       "      <th>774</th>\n",
       "      <th>775</th>\n",
       "      <th>776</th>\n",
       "      <th>777</th>\n",
       "      <th>778</th>\n",
       "      <th>779</th>\n",
       "      <th>780</th>\n",
       "      <th>781</th>\n",
       "      <th>782</th>\n",
       "      <th>783</th>\n",
       "    </tr>\n",
       "  </thead>\n",
       "  <tbody>\n",
       "    <tr>\n",
       "      <th>0</th>\n",
       "      <td>0.0</td>\n",
       "      <td>0.0</td>\n",
       "      <td>0.0</td>\n",
       "      <td>0.0</td>\n",
       "      <td>0.0</td>\n",
       "      <td>0.000000</td>\n",
       "      <td>0.000000</td>\n",
       "      <td>0.000000</td>\n",
       "      <td>0.000000</td>\n",
       "      <td>0.576471</td>\n",
       "      <td>...</td>\n",
       "      <td>0.117647</td>\n",
       "      <td>0.0</td>\n",
       "      <td>0.000000</td>\n",
       "      <td>0.000000</td>\n",
       "      <td>0.0</td>\n",
       "      <td>0.0</td>\n",
       "      <td>0.0</td>\n",
       "      <td>0.0</td>\n",
       "      <td>0.0</td>\n",
       "      <td>0.0</td>\n",
       "    </tr>\n",
       "    <tr>\n",
       "      <th>1</th>\n",
       "      <td>0.0</td>\n",
       "      <td>0.0</td>\n",
       "      <td>0.0</td>\n",
       "      <td>0.0</td>\n",
       "      <td>0.0</td>\n",
       "      <td>0.000000</td>\n",
       "      <td>0.000000</td>\n",
       "      <td>0.000000</td>\n",
       "      <td>0.000000</td>\n",
       "      <td>0.000000</td>\n",
       "      <td>...</td>\n",
       "      <td>0.000000</td>\n",
       "      <td>0.0</td>\n",
       "      <td>0.000000</td>\n",
       "      <td>0.000000</td>\n",
       "      <td>0.0</td>\n",
       "      <td>0.0</td>\n",
       "      <td>0.0</td>\n",
       "      <td>0.0</td>\n",
       "      <td>0.0</td>\n",
       "      <td>0.0</td>\n",
       "    </tr>\n",
       "    <tr>\n",
       "      <th>2</th>\n",
       "      <td>0.0</td>\n",
       "      <td>0.0</td>\n",
       "      <td>0.0</td>\n",
       "      <td>0.0</td>\n",
       "      <td>0.0</td>\n",
       "      <td>0.000000</td>\n",
       "      <td>0.000000</td>\n",
       "      <td>0.000000</td>\n",
       "      <td>0.011765</td>\n",
       "      <td>0.392157</td>\n",
       "      <td>...</td>\n",
       "      <td>0.000000</td>\n",
       "      <td>0.0</td>\n",
       "      <td>0.000000</td>\n",
       "      <td>0.000000</td>\n",
       "      <td>0.0</td>\n",
       "      <td>0.0</td>\n",
       "      <td>0.0</td>\n",
       "      <td>0.0</td>\n",
       "      <td>0.0</td>\n",
       "      <td>0.0</td>\n",
       "    </tr>\n",
       "    <tr>\n",
       "      <th>3</th>\n",
       "      <td>0.0</td>\n",
       "      <td>0.0</td>\n",
       "      <td>0.0</td>\n",
       "      <td>0.0</td>\n",
       "      <td>0.0</td>\n",
       "      <td>0.121569</td>\n",
       "      <td>0.854902</td>\n",
       "      <td>0.168627</td>\n",
       "      <td>0.000000</td>\n",
       "      <td>0.000000</td>\n",
       "      <td>...</td>\n",
       "      <td>0.078431</td>\n",
       "      <td>0.0</td>\n",
       "      <td>0.000000</td>\n",
       "      <td>0.000000</td>\n",
       "      <td>0.0</td>\n",
       "      <td>0.0</td>\n",
       "      <td>0.0</td>\n",
       "      <td>0.0</td>\n",
       "      <td>0.0</td>\n",
       "      <td>0.0</td>\n",
       "    </tr>\n",
       "    <tr>\n",
       "      <th>4</th>\n",
       "      <td>0.0</td>\n",
       "      <td>0.0</td>\n",
       "      <td>0.0</td>\n",
       "      <td>0.0</td>\n",
       "      <td>0.0</td>\n",
       "      <td>0.000000</td>\n",
       "      <td>0.035294</td>\n",
       "      <td>0.835294</td>\n",
       "      <td>0.992157</td>\n",
       "      <td>0.380392</td>\n",
       "      <td>...</td>\n",
       "      <td>0.000000</td>\n",
       "      <td>0.0</td>\n",
       "      <td>0.000000</td>\n",
       "      <td>0.000000</td>\n",
       "      <td>0.0</td>\n",
       "      <td>0.0</td>\n",
       "      <td>0.0</td>\n",
       "      <td>0.0</td>\n",
       "      <td>0.0</td>\n",
       "      <td>0.0</td>\n",
       "    </tr>\n",
       "    <tr>\n",
       "      <th>...</th>\n",
       "      <td>...</td>\n",
       "      <td>...</td>\n",
       "      <td>...</td>\n",
       "      <td>...</td>\n",
       "      <td>...</td>\n",
       "      <td>...</td>\n",
       "      <td>...</td>\n",
       "      <td>...</td>\n",
       "      <td>...</td>\n",
       "      <td>...</td>\n",
       "      <td>...</td>\n",
       "      <td>...</td>\n",
       "      <td>...</td>\n",
       "      <td>...</td>\n",
       "      <td>...</td>\n",
       "      <td>...</td>\n",
       "      <td>...</td>\n",
       "      <td>...</td>\n",
       "      <td>...</td>\n",
       "      <td>...</td>\n",
       "      <td>...</td>\n",
       "    </tr>\n",
       "    <tr>\n",
       "      <th>14995</th>\n",
       "      <td>0.0</td>\n",
       "      <td>0.0</td>\n",
       "      <td>0.0</td>\n",
       "      <td>0.0</td>\n",
       "      <td>0.0</td>\n",
       "      <td>0.000000</td>\n",
       "      <td>0.000000</td>\n",
       "      <td>0.000000</td>\n",
       "      <td>0.196078</td>\n",
       "      <td>0.713725</td>\n",
       "      <td>...</td>\n",
       "      <td>0.262745</td>\n",
       "      <td>0.0</td>\n",
       "      <td>0.000000</td>\n",
       "      <td>0.000000</td>\n",
       "      <td>0.0</td>\n",
       "      <td>0.0</td>\n",
       "      <td>0.0</td>\n",
       "      <td>0.0</td>\n",
       "      <td>0.0</td>\n",
       "      <td>0.0</td>\n",
       "    </tr>\n",
       "    <tr>\n",
       "      <th>14996</th>\n",
       "      <td>0.0</td>\n",
       "      <td>0.0</td>\n",
       "      <td>0.0</td>\n",
       "      <td>0.0</td>\n",
       "      <td>0.0</td>\n",
       "      <td>0.000000</td>\n",
       "      <td>0.000000</td>\n",
       "      <td>0.000000</td>\n",
       "      <td>0.000000</td>\n",
       "      <td>0.000000</td>\n",
       "      <td>...</td>\n",
       "      <td>1.000000</td>\n",
       "      <td>1.0</td>\n",
       "      <td>0.796078</td>\n",
       "      <td>0.062745</td>\n",
       "      <td>0.0</td>\n",
       "      <td>0.0</td>\n",
       "      <td>0.0</td>\n",
       "      <td>0.0</td>\n",
       "      <td>0.0</td>\n",
       "      <td>0.0</td>\n",
       "    </tr>\n",
       "    <tr>\n",
       "      <th>14997</th>\n",
       "      <td>0.0</td>\n",
       "      <td>0.0</td>\n",
       "      <td>0.0</td>\n",
       "      <td>0.0</td>\n",
       "      <td>0.0</td>\n",
       "      <td>0.000000</td>\n",
       "      <td>0.000000</td>\n",
       "      <td>0.011765</td>\n",
       "      <td>0.560784</td>\n",
       "      <td>0.996078</td>\n",
       "      <td>...</td>\n",
       "      <td>0.000000</td>\n",
       "      <td>0.0</td>\n",
       "      <td>0.000000</td>\n",
       "      <td>0.000000</td>\n",
       "      <td>0.0</td>\n",
       "      <td>0.0</td>\n",
       "      <td>0.0</td>\n",
       "      <td>0.0</td>\n",
       "      <td>0.0</td>\n",
       "      <td>0.0</td>\n",
       "    </tr>\n",
       "    <tr>\n",
       "      <th>14998</th>\n",
       "      <td>0.0</td>\n",
       "      <td>0.0</td>\n",
       "      <td>0.0</td>\n",
       "      <td>0.0</td>\n",
       "      <td>0.0</td>\n",
       "      <td>0.000000</td>\n",
       "      <td>0.000000</td>\n",
       "      <td>0.000000</td>\n",
       "      <td>0.000000</td>\n",
       "      <td>0.000000</td>\n",
       "      <td>...</td>\n",
       "      <td>0.000000</td>\n",
       "      <td>0.0</td>\n",
       "      <td>0.000000</td>\n",
       "      <td>0.000000</td>\n",
       "      <td>0.0</td>\n",
       "      <td>0.0</td>\n",
       "      <td>0.0</td>\n",
       "      <td>0.0</td>\n",
       "      <td>0.0</td>\n",
       "      <td>0.0</td>\n",
       "    </tr>\n",
       "    <tr>\n",
       "      <th>14999</th>\n",
       "      <td>0.0</td>\n",
       "      <td>0.0</td>\n",
       "      <td>0.0</td>\n",
       "      <td>0.0</td>\n",
       "      <td>0.0</td>\n",
       "      <td>0.000000</td>\n",
       "      <td>0.000000</td>\n",
       "      <td>0.000000</td>\n",
       "      <td>0.000000</td>\n",
       "      <td>0.000000</td>\n",
       "      <td>...</td>\n",
       "      <td>0.000000</td>\n",
       "      <td>0.0</td>\n",
       "      <td>0.000000</td>\n",
       "      <td>0.000000</td>\n",
       "      <td>0.0</td>\n",
       "      <td>0.0</td>\n",
       "      <td>0.0</td>\n",
       "      <td>0.0</td>\n",
       "      <td>0.0</td>\n",
       "      <td>0.0</td>\n",
       "    </tr>\n",
       "  </tbody>\n",
       "</table>\n",
       "<p>15000 rows × 784 columns</p>\n",
       "</div>"
      ],
      "text/plain": [
       "         0    1    2    3    4         5         6         7         8  \\\n",
       "0      0.0  0.0  0.0  0.0  0.0  0.000000  0.000000  0.000000  0.000000   \n",
       "1      0.0  0.0  0.0  0.0  0.0  0.000000  0.000000  0.000000  0.000000   \n",
       "2      0.0  0.0  0.0  0.0  0.0  0.000000  0.000000  0.000000  0.011765   \n",
       "3      0.0  0.0  0.0  0.0  0.0  0.121569  0.854902  0.168627  0.000000   \n",
       "4      0.0  0.0  0.0  0.0  0.0  0.000000  0.035294  0.835294  0.992157   \n",
       "...    ...  ...  ...  ...  ...       ...       ...       ...       ...   \n",
       "14995  0.0  0.0  0.0  0.0  0.0  0.000000  0.000000  0.000000  0.196078   \n",
       "14996  0.0  0.0  0.0  0.0  0.0  0.000000  0.000000  0.000000  0.000000   \n",
       "14997  0.0  0.0  0.0  0.0  0.0  0.000000  0.000000  0.011765  0.560784   \n",
       "14998  0.0  0.0  0.0  0.0  0.0  0.000000  0.000000  0.000000  0.000000   \n",
       "14999  0.0  0.0  0.0  0.0  0.0  0.000000  0.000000  0.000000  0.000000   \n",
       "\n",
       "              9  ...       774  775       776       777  778  779  780  781  \\\n",
       "0      0.576471  ...  0.117647  0.0  0.000000  0.000000  0.0  0.0  0.0  0.0   \n",
       "1      0.000000  ...  0.000000  0.0  0.000000  0.000000  0.0  0.0  0.0  0.0   \n",
       "2      0.392157  ...  0.000000  0.0  0.000000  0.000000  0.0  0.0  0.0  0.0   \n",
       "3      0.000000  ...  0.078431  0.0  0.000000  0.000000  0.0  0.0  0.0  0.0   \n",
       "4      0.380392  ...  0.000000  0.0  0.000000  0.000000  0.0  0.0  0.0  0.0   \n",
       "...         ...  ...       ...  ...       ...       ...  ...  ...  ...  ...   \n",
       "14995  0.713725  ...  0.262745  0.0  0.000000  0.000000  0.0  0.0  0.0  0.0   \n",
       "14996  0.000000  ...  1.000000  1.0  0.796078  0.062745  0.0  0.0  0.0  0.0   \n",
       "14997  0.996078  ...  0.000000  0.0  0.000000  0.000000  0.0  0.0  0.0  0.0   \n",
       "14998  0.000000  ...  0.000000  0.0  0.000000  0.000000  0.0  0.0  0.0  0.0   \n",
       "14999  0.000000  ...  0.000000  0.0  0.000000  0.000000  0.0  0.0  0.0  0.0   \n",
       "\n",
       "       782  783  \n",
       "0      0.0  0.0  \n",
       "1      0.0  0.0  \n",
       "2      0.0  0.0  \n",
       "3      0.0  0.0  \n",
       "4      0.0  0.0  \n",
       "...    ...  ...  \n",
       "14995  0.0  0.0  \n",
       "14996  0.0  0.0  \n",
       "14997  0.0  0.0  \n",
       "14998  0.0  0.0  \n",
       "14999  0.0  0.0  \n",
       "\n",
       "[15000 rows x 784 columns]"
      ]
     },
     "execution_count": 247,
     "metadata": {},
     "output_type": "execute_result"
    }
   ],
   "source": [
    "dft"
   ]
  },
  {
   "cell_type": "markdown",
   "metadata": {},
   "source": [
    "اگه این کار را نکنیم، در موقع حساب کردن گرادیان به مشکل میخوریم چون اعداد بزرگ باعث میشن تا گرادیان بیشتری به دست بیاد در نتیجه تغییر بیشتری ایجاد میشه که این باعث میشه عملکرد خوبی نداشته باشیم و همچنین امکان دارد که اعداد آنقدری بزرگ شوند که مشکل اورفلو پیدا کنیم در نتیجه اگه اعداد بین 0 و 1 باشند حساب کردن آن ها هم راحت تر است"
   ]
  },
  {
   "cell_type": "markdown",
   "metadata": {},
   "source": [
    "حال تایپ دیتافریم هایی که داریم رو به float تبدیل میکنیم"
   ]
  },
  {
   "cell_type": "markdown",
   "metadata": {},
   "source": [
    "# Phase #2"
   ]
  },
  {
   "cell_type": "markdown",
   "metadata": {},
   "source": [
    "در این بخش باید کدی که به ما داده شده را کامل کنیم، که در بالا بخش هایی که\n",
    "\n",
    "#todo\n",
    "\n",
    "دارند رو کامل میکنیم"
   ]
  },
  {
   "cell_type": "markdown",
   "metadata": {},
   "source": [
    "# Phase #3"
   ]
  },
  {
   "cell_type": "code",
   "execution_count": null,
   "metadata": {},
   "outputs": [],
   "source": []
  },
  {
   "cell_type": "markdown",
   "metadata": {},
   "source": [
    "# Training Sample Code"
   ]
  },
  {
   "cell_type": "code",
   "execution_count": null,
   "metadata": {},
   "outputs": [],
   "source": [
    "# Sample code for building and training a model\n",
    "\n",
    "INPUT_SHAPE = ...\n",
    "LEARNING_RATE = ...\n",
    "EPOCHS = ...\n",
    "TRAINLOADER = ...\n",
    "TESTLOADER = ...\n",
    "\n",
    "\n",
    "\n",
    "network = FeedForwardNN(INPUT_SHAPE)\n",
    "network.add_layer(..., input_shape=INPUT_SHAPE, activation=LeakyRelu(), weight_initializer='uniform')\n",
    "network.add_layer(..., activation=LeakyRelu(), weight_initializer='uniform')\n",
    "network.set_training_param(loss=CrossEntropy(), learning_rate=LEARNING_RATE)\n",
    "\n",
    "log = network.fit(EPOCHS, TRAINLOADER, TESTLOADER)"
   ]
  },
  {
   "cell_type": "code",
   "execution_count": 333,
   "metadata": {},
   "outputs": [],
   "source": [
    "def sample(INPUT_SHAPE, LEARNING_RATE, EPOCHS, ACTIVATION, ACTIVATION_2, WEIGHT_INI, TRAINLOADER, TESTLOADER, HLS, LLS):\n",
    "    network = FeedForwardNN(INPUT_SHAPE)\n",
    "    network.add_layer(HLS, input_shape=INPUT_SHAPE, activation=ACTIVATION, WEIGHT_INI='uniform')\n",
    "    network.add_layer(LLS, activation=ACTIVATION_2, WEIGHT_INI='uniform')\n",
    "    network.set_training_param(loss=CrossEntropy(), lr=LEARNING_RATE)\n",
    "\n",
    "    log = network.fit(EPOCHS, TRAINLOADER, TESTLOADER)"
   ]
  },
  {
   "cell_type": "code",
   "execution_count": 410,
   "metadata": {},
   "outputs": [
    {
     "name": "stdout",
     "output_type": "stream",
     "text": [
      "Epoch 1:\n",
      "\tTrain: Average Accuracy: 0.5891357942430704\tAverage Loss: 7821.434726087326\n",
      "\tTest: Average Accuracy: 0.635904255319149\tAverage Loss: 6798.097671155551\n",
      "Epoch 2:\n",
      "\tTrain: Average Accuracy: 0.767557302771855\tAverage Loss: 6547.475485943774\n",
      "\tTest: Average Accuracy: 0.6836214539007093\tAverage Loss: 5934.972010412906\n",
      "Epoch 3:\n",
      "\tTrain: Average Accuracy: 0.8013059701492538\tAverage Loss: 5751.638505333208\n",
      "\tTest: Average Accuracy: 0.7089317375886524\tAverage Loss: 5295.354649828593\n",
      "Epoch 4:\n",
      "\tTrain: Average Accuracy: 0.8258761993603412\tAverage Loss: 5275.425581870237\n",
      "\tTest: Average Accuracy: 0.7320700354609928\tAverage Loss: 4888.387915554144\n",
      "Epoch 5:\n",
      "\tTrain: Average Accuracy: 0.8442997068230277\tAverage Loss: 5022.914164651561\n",
      "\tTest: Average Accuracy: 0.7506205673758864\tAverage Loss: 4873.528563168594\n",
      "Epoch 6:\n",
      "\tTrain: Average Accuracy: 0.8592750533049041\tAverage Loss: 4987.667733744974\n",
      "\tTest: Average Accuracy: 0.7575797872340425\tAverage Loss: 4864.638518312948\n",
      "Epoch 7:\n",
      "\tTrain: Average Accuracy: 0.8686367270788913\tAverage Loss: 5014.816729514246\n",
      "\tTest: Average Accuracy: 0.769392730496454\tAverage Loss: 4790.224379528806\n",
      "Epoch 8:\n",
      "\tTrain: Average Accuracy: 0.8762993070362474\tAverage Loss: 5020.397963785482\n",
      "\tTest: Average Accuracy: 0.7767508865248226\tAverage Loss: 4853.707323988271\n",
      "Epoch 9:\n",
      "\tTrain: Average Accuracy: 0.8817630597014925\tAverage Loss: 5052.9664042084805\n",
      "\tTest: Average Accuracy: 0.7888076241134753\tAverage Loss: 4890.364913347998\n",
      "Epoch 10:\n",
      "\tTrain: Average Accuracy: 0.8870602345415778\tAverage Loss: 5070.902299619386\n",
      "\tTest: Average Accuracy: 0.7879875886524822\tAverage Loss: 4980.662309215767\n",
      "Epoch 11:\n",
      "\tTrain: Average Accuracy: 0.8900253198294243\tAverage Loss: 5108.36473528534\n",
      "\tTest: Average Accuracy: 0.792863475177305\tAverage Loss: 4880.46085585899\n",
      "Epoch 12:\n",
      "\tTrain: Average Accuracy: 0.8942730543710021\tAverage Loss: 5105.710599159251\n",
      "\tTest: Average Accuracy: 0.7910682624113476\tAverage Loss: 4977.931595308642\n",
      "Epoch 13:\n",
      "\tTrain: Average Accuracy: 0.8978877931769723\tAverage Loss: 5142.1819945504185\n",
      "\tTest: Average Accuracy: 0.7904698581560284\tAverage Loss: 4918.671397397272\n",
      "Epoch 14:\n",
      "\tTrain: Average Accuracy: 0.8993203624733476\tAverage Loss: 5135.595298058071\n",
      "\tTest: Average Accuracy: 0.7980939716312055\tAverage Loss: 4992.547976713648\n",
      "Epoch 15:\n",
      "\tTrain: Average Accuracy: 0.90230210554371\tAverage Loss: 5207.0105385228535\n",
      "\tTest: Average Accuracy: 0.8020833333333333\tAverage Loss: 4984.280044165127\n",
      "Epoch 16:\n",
      "\tTrain: Average Accuracy: 0.9048674040511727\tAverage Loss: 5212.593905695148\n",
      "\tTest: Average Accuracy: 0.7983599290780141\tAverage Loss: 5104.70661095676\n",
      "Epoch 17:\n",
      "\tTrain: Average Accuracy: 0.9056669776119403\tAverage Loss: 5235.737765796004\n",
      "\tTest: Average Accuracy: 0.8018617021276596\tAverage Loss: 5128.31756954568\n",
      "Epoch 18:\n",
      "\tTrain: Average Accuracy: 0.9080157249466951\tAverage Loss: 5257.117576364002\n",
      "\tTest: Average Accuracy: 0.800642730496454\tAverage Loss: 5187.428984168169\n",
      "Epoch 19:\n",
      "\tTrain: Average Accuracy: 0.9090485074626866\tAverage Loss: 5272.123780443798\n",
      "\tTest: Average Accuracy: 0.7966755319148936\tAverage Loss: 5152.331928702682\n",
      "Epoch 20:\n",
      "\tTrain: Average Accuracy: 0.9107142857142857\tAverage Loss: 5291.697962212315\n",
      "\tTest: Average Accuracy: 0.8018395390070923\tAverage Loss: 5129.348583970029\n"
     ]
    }
   ],
   "source": [
    "BATCH_SIZE = 64\n",
    "TRAINLOADER = Dataloader(df, dfl, 20, batch_size = BATCH_SIZE, shuffle=True)\n",
    "TESTLOADER = Dataloader(dft, dftl, 20, batch_size = BATCH_SIZE, shuffle=True)\n",
    "sample(784, 0.001, 20, Relu(), Identical(), 'uniform', TRAINLOADER, TESTLOADER, 40, 20)"
   ]
  },
  {
   "cell_type": "markdown",
   "metadata": {},
   "source": [
    "## قسمت دوم) وزن دهی شبکه"
   ]
  },
  {
   "cell_type": "markdown",
   "metadata": {},
   "source": [
    "یک اتفاقی که میفته اینه اگه اگه تمامی وزن ها صفر باشند، یعنی تمامی وزن ها باهم برابرند و در آخر این باعث میشه که تمامی نورون ها مثل هم رفتار کنند\n",
    "\n",
    "و همچنین اینکار باعث میشود که شبکه مینیموم های محلی را به درستی پیدا نکند"
   ]
  },
  {
   "cell_type": "markdown",
   "metadata": {},
   "source": [
    "## قسمت سوم) تاثیر لرنینگ ریت"
   ]
  },
  {
   "cell_type": "code",
   "execution_count": 412,
   "metadata": {},
   "outputs": [
    {
     "name": "stdout",
     "output_type": "stream",
     "text": [
      "Epoch 1:\n",
      "\tTrain: Average Accuracy: 0.32017923773987206\tAverage Loss: 326.2401655475272\n",
      "\tTest: Average Accuracy: 0.3704122340425532\tAverage Loss: 424.85814907570034\n",
      "Epoch 2:\n",
      "\tTrain: Average Accuracy: 0.5519722814498934\tAverage Loss: 592.6712105316494\n",
      "\tTest: Average Accuracy: 0.5207668439716312\tAverage Loss: 770.7118912939453\n",
      "Epoch 3:\n",
      "\tTrain: Average Accuracy: 0.625049973347548\tAverage Loss: 785.678758013756\n",
      "\tTest: Average Accuracy: 0.5504654255319149\tAverage Loss: 850.8135327171618\n",
      "Epoch 4:\n",
      "\tTrain: Average Accuracy: 0.6552838486140725\tAverage Loss: 877.449902313687\n",
      "\tTest: Average Accuracy: 0.5599955673758864\tAverage Loss: 827.3148219552182\n",
      "Epoch 5:\n",
      "\tTrain: Average Accuracy: 0.6812533315565032\tAverage Loss: 964.8640039218814\n",
      "\tTest: Average Accuracy: 0.5789228723404255\tAverage Loss: 932.288762135191\n",
      "Epoch 6:\n",
      "\tTrain: Average Accuracy: 0.683618736673774\tAverage Loss: 1003.0467703372872\n",
      "\tTest: Average Accuracy: 0.5949468085106383\tAverage Loss: 1035.4397127473958\n",
      "Epoch 7:\n",
      "\tTrain: Average Accuracy: 0.6949127132196162\tAverage Loss: 1043.6044019906117\n",
      "\tTest: Average Accuracy: 0.5856161347517731\tAverage Loss: 1041.7841605191384\n",
      "Epoch 8:\n",
      "\tTrain: Average Accuracy: 0.7151019456289979\tAverage Loss: 1103.610588856468\n",
      "\tTest: Average Accuracy: 0.6178191489361702\tAverage Loss: 1064.6753345497991\n",
      "Epoch 9:\n",
      "\tTrain: Average Accuracy: 0.730643656716418\tAverage Loss: 1160.345309799624\n",
      "\tTest: Average Accuracy: 0.6190159574468085\tAverage Loss: 1131.1049647910586\n",
      "Epoch 10:\n",
      "\tTrain: Average Accuracy: 0.7405883528784648\tAverage Loss: 1199.533372401274\n",
      "\tTest: Average Accuracy: 0.6461657801418439\tAverage Loss: 1191.3597800123662\n",
      "Epoch 11:\n",
      "\tTrain: Average Accuracy: 0.7586787046908315\tAverage Loss: 1261.6282482279464\n",
      "\tTest: Average Accuracy: 0.6410017730496455\tAverage Loss: 1230.4225901866562\n",
      "Epoch 12:\n",
      "\tTrain: Average Accuracy: 0.7668077025586354\tAverage Loss: 1257.7875216772227\n",
      "\tTest: Average Accuracy: 0.6503767730496455\tAverage Loss: 1313.3686094608852\n",
      "Epoch 13:\n",
      "\tTrain: Average Accuracy: 0.7754197761194029\tAverage Loss: 1299.7728709964679\n",
      "\tTest: Average Accuracy: 0.6802083333333333\tAverage Loss: 1301.0649528685312\n",
      "Epoch 14:\n",
      "\tTrain: Average Accuracy: 0.7821994936034116\tAverage Loss: 1331.703158019624\n",
      "\tTest: Average Accuracy: 0.6662677304964539\tAverage Loss: 1446.0988741958251\n",
      "Epoch 15:\n",
      "\tTrain: Average Accuracy: 0.7879630863539445\tAverage Loss: 1348.1854595954844\n",
      "\tTest: Average Accuracy: 0.6834219858156029\tAverage Loss: 1319.762108498541\n",
      "Epoch 16:\n",
      "\tTrain: Average Accuracy: 0.7924606876332623\tAverage Loss: 1365.4879133002134\n",
      "\tTest: Average Accuracy: 0.6778812056737588\tAverage Loss: 1365.1955354140032\n",
      "Epoch 17:\n",
      "\tTrain: Average Accuracy: 0.7952925106609808\tAverage Loss: 1382.0551802687985\n",
      "\tTest: Average Accuracy: 0.6589760638297872\tAverage Loss: 1343.8978209627821\n",
      "Epoch 18:\n",
      "\tTrain: Average Accuracy: 0.7978744669509595\tAverage Loss: 1392.9552693066132\n",
      "\tTest: Average Accuracy: 0.6791445035460992\tAverage Loss: 1403.0165445017358\n",
      "Epoch 19:\n",
      "\tTrain: Average Accuracy: 0.8006896321961621\tAverage Loss: 1379.8816396668178\n",
      "\tTest: Average Accuracy: 0.6873670212765958\tAverage Loss: 1515.9396965234437\n",
      "Epoch 20:\n",
      "\tTrain: Average Accuracy: 0.8047874466950959\tAverage Loss: 1412.648517750819\n",
      "\tTest: Average Accuracy: 0.6911347517730497\tAverage Loss: 1344.6194902456102\n"
     ]
    }
   ],
   "source": [
    "BATCH_SIZE = 64\n",
    "TRAINLOADER = Dataloader(df, dfl, 20, batch_size = BATCH_SIZE, shuffle=True)\n",
    "TESTLOADER = Dataloader(dft, dftl, 20, batch_size = BATCH_SIZE, shuffle=True)\n",
    "sample(784, 0.01, 20, Relu(), Identical(), 'uniform', TRAINLOADER, TESTLOADER, 40, 20)"
   ]
  },
  {
   "cell_type": "code",
   "execution_count": 413,
   "metadata": {},
   "outputs": [
    {
     "name": "stdout",
     "output_type": "stream",
     "text": [
      "Epoch 1:\n",
      "\tTrain: Average Accuracy: 0.11782049573560767\tAverage Loss: 13686.14964250787\n",
      "\tTest: Average Accuracy: 0.20791223404255318\tAverage Loss: 12978.920048964928\n",
      "Epoch 2:\n",
      "\tTrain: Average Accuracy: 0.427771855010661\tAverage Loss: 13384.56630465262\n",
      "\tTest: Average Accuracy: 0.45562943262411343\tAverage Loss: 12721.912893582925\n",
      "Epoch 3:\n",
      "\tTrain: Average Accuracy: 0.5945329157782516\tAverage Loss: 13206.142239366329\n",
      "\tTest: Average Accuracy: 0.5164228723404255\tAverage Loss: 12647.527724116331\n",
      "Epoch 4:\n",
      "\tTrain: Average Accuracy: 0.6521521855010661\tAverage Loss: 13167.694233890874\n",
      "\tTest: Average Accuracy: 0.5531028368794327\tAverage Loss: 12639.412859919199\n",
      "Epoch 5:\n",
      "\tTrain: Average Accuracy: 0.6838852611940298\tAverage Loss: 13156.968644714261\n",
      "\tTest: Average Accuracy: 0.5798980496453902\tAverage Loss: 12619.045468444452\n",
      "Epoch 6:\n",
      "\tTrain: Average Accuracy: 0.7027585287846482\tAverage Loss: 13137.666657053995\n",
      "\tTest: Average Accuracy: 0.5971852836879433\tAverage Loss: 12604.597047359071\n",
      "Epoch 7:\n",
      "\tTrain: Average Accuracy: 0.7180503731343284\tAverage Loss: 13114.293176831237\n",
      "\tTest: Average Accuracy: 0.6151595744680851\tAverage Loss: 12574.55656313949\n",
      "Epoch 8:\n",
      "\tTrain: Average Accuracy: 0.7271455223880597\tAverage Loss: 13086.005618240642\n",
      "\tTest: Average Accuracy: 0.6248670212765958\tAverage Loss: 12546.416006965257\n",
      "Epoch 9:\n",
      "\tTrain: Average Accuracy: 0.7367070895522388\tAverage Loss: 13052.437996669758\n",
      "\tTest: Average Accuracy: 0.6322916666666667\tAverage Loss: 12510.189414687336\n",
      "Epoch 10:\n",
      "\tTrain: Average Accuracy: 0.7442697228144989\tAverage Loss: 13013.362805806772\n",
      "\tTest: Average Accuracy: 0.6394060283687945\tAverage Loss: 12474.22789424141\n",
      "Epoch 11:\n",
      "\tTrain: Average Accuracy: 0.7505163912579957\tAverage Loss: 12974.543220077321\n",
      "\tTest: Average Accuracy: 0.6466312056737588\tAverage Loss: 12435.262737744259\n",
      "Epoch 12:\n",
      "\tTrain: Average Accuracy: 0.7554470948827292\tAverage Loss: 12928.485492062639\n",
      "\tTest: Average Accuracy: 0.6497340425531914\tAverage Loss: 12384.565865496099\n",
      "Epoch 13:\n",
      "\tTrain: Average Accuracy: 0.7601779051172708\tAverage Loss: 12882.515154865641\n",
      "\tTest: Average Accuracy: 0.6532358156028369\tAverage Loss: 12340.852197165133\n",
      "Epoch 14:\n",
      "\tTrain: Average Accuracy: 0.7642090884861408\tAverage Loss: 12832.990287502964\n",
      "\tTest: Average Accuracy: 0.6595744680851063\tAverage Loss: 12291.623823521544\n",
      "Epoch 15:\n",
      "\tTrain: Average Accuracy: 0.7677905117270789\tAverage Loss: 12779.455236335112\n",
      "\tTest: Average Accuracy: 0.6627437943262412\tAverage Loss: 12239.781903521663\n",
      "Epoch 16:\n",
      "\tTrain: Average Accuracy: 0.769606210021322\tAverage Loss: 12723.28200918681\n",
      "\tTest: Average Accuracy: 0.6598404255319149\tAverage Loss: 12183.773010150977\n",
      "Epoch 17:\n",
      "\tTrain: Average Accuracy: 0.7731876332622601\tAverage Loss: 12660.93839463735\n",
      "\tTest: Average Accuracy: 0.6679521276595745\tAverage Loss: 12124.972433505627\n",
      "Epoch 18:\n",
      "\tTrain: Average Accuracy: 0.7762193496801706\tAverage Loss: 12598.416946874982\n",
      "\tTest: Average Accuracy: 0.669636524822695\tAverage Loss: 12061.089154781737\n",
      "Epoch 19:\n",
      "\tTrain: Average Accuracy: 0.777518656716418\tAverage Loss: 12531.830176469915\n",
      "\tTest: Average Accuracy: 0.6707446808510639\tAverage Loss: 11998.089603612405\n",
      "Epoch 20:\n",
      "\tTrain: Average Accuracy: 0.7800006663113006\tAverage Loss: 12452.462891990821\n",
      "\tTest: Average Accuracy: 0.6731826241134753\tAverage Loss: 11912.042591338108\n"
     ]
    }
   ],
   "source": [
    "BATCH_SIZE = 64\n",
    "TRAINLOADER = Dataloader(df, dfl, 20, batch_size = BATCH_SIZE, shuffle=True)\n",
    "TESTLOADER = Dataloader(dft, dftl, 20, batch_size = BATCH_SIZE, shuffle=True)\n",
    "sample(784, 0.0001, 20, Relu(), Identical(), 'uniform', TRAINLOADER, TESTLOADER, 40, 20)"
   ]
  },
  {
   "cell_type": "markdown",
   "metadata": {},
   "source": [
    "لرنینگ ریت یعنی اندازه قدمی که شبکه ما در هر قدم برمیدارد تا به مینیموم محلی برسد\n",
    "\n",
    "حال اگه این عدد مقدار زیادی داشته باشد، سرعت ما بالا رفته ولی ممکن است جواب نهایی خوبی نگیریم چون قدم های بزرگتر باعث ایجاد این امکان میشوند که ما نقطه مورد نظر رو رد کنیم\n",
    "\n",
    "در عین حال اگه قدم های کوچک تری برداریم، سرعت ما پایین آمده ولی در نهایت دقت خوبی میگیریم چون خیلی ریز و دقیق حرکت میکنیم"
   ]
  },
  {
   "cell_type": "code",
   "execution_count": 415,
   "metadata": {},
   "outputs": [
    {
     "name": "stdout",
     "output_type": "stream",
     "text": [
      "Epoch 1:\n",
      "\tTrain: Average Accuracy: 0.061533848614072496\tAverage Loss: 13746.911170588639\n",
      "\tTest: Average Accuracy: 0.056848404255319146\tAverage Loss: 13181.79029065858\n",
      "Epoch 2:\n",
      "\tTrain: Average Accuracy: 0.06788046375266525\tAverage Loss: 13739.002854393751\n",
      "\tTest: Average Accuracy: 0.06881648936170212\tAverage Loss: 13174.021139129913\n",
      "Epoch 3:\n",
      "\tTrain: Average Accuracy: 0.08050706289978678\tAverage Loss: 13731.144571437026\n",
      "\tTest: Average Accuracy: 0.10981826241134751\tAverage Loss: 13166.351735056865\n",
      "Epoch 4:\n",
      "\tTrain: Average Accuracy: 0.10054637526652452\tAverage Loss: 13722.852536162098\n",
      "\tTest: Average Accuracy: 0.1074468085106383\tAverage Loss: 13158.281341310967\n",
      "Epoch 5:\n",
      "\tTrain: Average Accuracy: 0.12301772388059702\tAverage Loss: 13714.567734941458\n",
      "\tTest: Average Accuracy: 0.13368794326241135\tAverage Loss: 13150.092877380992\n",
      "Epoch 6:\n",
      "\tTrain: Average Accuracy: 0.14420642324093816\tAverage Loss: 13705.594045122085\n",
      "\tTest: Average Accuracy: 0.16207890070921988\tAverage Loss: 13141.096477274954\n",
      "Epoch 7:\n",
      "\tTrain: Average Accuracy: 0.1579657515991471\tAverage Loss: 13695.63768939889\n",
      "\tTest: Average Accuracy: 0.13413120567375886\tAverage Loss: 13131.17658545304\n",
      "Epoch 8:\n",
      "\tTrain: Average Accuracy: 0.17037579957356078\tAverage Loss: 13684.326727854732\n",
      "\tTest: Average Accuracy: 0.17659574468085107\tAverage Loss: 13120.049098433843\n",
      "Epoch 9:\n",
      "\tTrain: Average Accuracy: 0.205090618336887\tAverage Loss: 13671.900657658587\n",
      "\tTest: Average Accuracy: 0.1974512411347518\tAverage Loss: 13108.002882656046\n",
      "Epoch 10:\n",
      "\tTrain: Average Accuracy: 0.25806236673773986\tAverage Loss: 13658.378715120773\n",
      "\tTest: Average Accuracy: 0.28594858156028363\tAverage Loss: 13095.59956374816\n",
      "Epoch 11:\n",
      "\tTrain: Average Accuracy: 0.322228144989339\tAverage Loss: 13645.39965563407\n",
      "\tTest: Average Accuracy: 0.2824689716312057\tAverage Loss: 13084.723049680473\n",
      "Epoch 12:\n",
      "\tTrain: Average Accuracy: 0.374966684434968\tAverage Loss: 13635.52428276641\n",
      "\tTest: Average Accuracy: 0.3458554964539007\tAverage Loss: 13077.868412600903\n",
      "Epoch 13:\n",
      "\tTrain: Average Accuracy: 0.41807702558635396\tAverage Loss: 13630.233493441\n",
      "\tTest: Average Accuracy: 0.37542109929078016\tAverage Loss: 13075.964478805023\n",
      "Epoch 14:\n",
      "\tTrain: Average Accuracy: 0.4575393123667377\tAverage Loss: 13629.012776265787\n",
      "\tTest: Average Accuracy: 0.3950576241134751\tAverage Loss: 13077.464428242327\n",
      "Epoch 15:\n",
      "\tTrain: Average Accuracy: 0.48465818230277186\tAverage Loss: 13630.849091955513\n",
      "\tTest: Average Accuracy: 0.40795656028368793\tAverage Loss: 13080.40434214196\n",
      "Epoch 16:\n",
      "\tTrain: Average Accuracy: 0.5053304904051172\tAverage Loss: 13634.260192294307\n",
      "\tTest: Average Accuracy: 0.42222960992907804\tAverage Loss: 13085.775514193596\n",
      "Epoch 17:\n",
      "\tTrain: Average Accuracy: 0.521555170575693\tAverage Loss: 13639.138474543712\n",
      "\tTest: Average Accuracy: 0.43335549645390065\tAverage Loss: 13092.08911371716\n",
      "Epoch 18:\n",
      "\tTrain: Average Accuracy: 0.5359474946695096\tAverage Loss: 13645.571865686656\n",
      "\tTest: Average Accuracy: 0.44554521276595743\tAverage Loss: 13099.782473193347\n",
      "Epoch 19:\n",
      "\tTrain: Average Accuracy: 0.5481409914712153\tAverage Loss: 13653.253610196814\n",
      "\tTest: Average Accuracy: 0.45150709219858154\tAverage Loss: 13108.59944139382\n",
      "Epoch 20:\n",
      "\tTrain: Average Accuracy: 0.5603511460554371\tAverage Loss: 13661.514416001042\n",
      "\tTest: Average Accuracy: 0.46041666666666664\tAverage Loss: 13118.253207194502\n"
     ]
    }
   ],
   "source": [
    "BATCH_SIZE = 64\n",
    "TRAINLOADER = Dataloader(df, dfl, 20, batch_size = BATCH_SIZE, shuffle=True)\n",
    "TESTLOADER = Dataloader(dft, dftl, 20, batch_size = BATCH_SIZE, shuffle=True)\n",
    "sample(784, 0.00001, 20, Relu(), Identical(), 'uniform', TRAINLOADER, TESTLOADER, 40, 20)"
   ]
  },
  {
   "cell_type": "markdown",
   "metadata": {},
   "source": [
    "0.001 لرنینگ ریت مناسبی است"
   ]
  },
  {
   "cell_type": "markdown",
   "metadata": {},
   "source": [
    "## قسمت چهارم) تاثیر اکتیویشن فانکشن"
   ]
  },
  {
   "cell_type": "code",
   "execution_count": 416,
   "metadata": {},
   "outputs": [
    {
     "name": "stdout",
     "output_type": "stream",
     "text": [
      "Epoch 1:\n",
      "\tTrain: Average Accuracy: 0.06949626865671642\tAverage Loss: 3586.843702365984\n",
      "\tTest: Average Accuracy: 0.10879875886524824\tAverage Loss: 3493.598067159495\n",
      "Epoch 2:\n",
      "\tTrain: Average Accuracy: 0.20279184434968017\tAverage Loss: 3264.7318341101936\n",
      "\tTest: Average Accuracy: 0.24756205673758863\tAverage Loss: 3116.4673211777426\n",
      "Epoch 3:\n",
      "\tTrain: Average Accuracy: 0.40626665778251597\tAverage Loss: 3052.6940839921226\n",
      "\tTest: Average Accuracy: 0.42440159574468084\tAverage Loss: 2967.908326006614\n",
      "Epoch 4:\n",
      "\tTrain: Average Accuracy: 0.5961820362473348\tAverage Loss: 2901.2716109467237\n",
      "\tTest: Average Accuracy: 0.5294104609929078\tAverage Loss: 2849.6732929687264\n",
      "Epoch 5:\n",
      "\tTrain: Average Accuracy: 0.6743736673773987\tAverage Loss: 2794.4614228509986\n",
      "\tTest: Average Accuracy: 0.5748448581560285\tAverage Loss: 2766.381561036301\n",
      "Epoch 6:\n",
      "\tTrain: Average Accuracy: 0.7111207356076759\tAverage Loss: 2732.088021139796\n",
      "\tTest: Average Accuracy: 0.6070700354609928\tAverage Loss: 2733.381870285825\n",
      "Epoch 7:\n",
      "\tTrain: Average Accuracy: 0.736373933901919\tAverage Loss: 2699.169439996271\n",
      "\tTest: Average Accuracy: 0.6284574468085107\tAverage Loss: 2703.7851424933333\n",
      "Epoch 8:\n",
      "\tTrain: Average Accuracy: 0.7530483742004265\tAverage Loss: 2676.399980036424\n",
      "\tTest: Average Accuracy: 0.6439051418439715\tAverage Loss: 2691.0989857637996\n",
      "Epoch 9:\n",
      "\tTrain: Average Accuracy: 0.7669409648187633\tAverage Loss: 2659.466311879464\n",
      "\tTest: Average Accuracy: 0.6571808510638298\tAverage Loss: 2669.6012979390707\n",
      "Epoch 10:\n",
      "\tTrain: Average Accuracy: 0.7771355277185501\tAverage Loss: 2644.9195517067537\n",
      "\tTest: Average Accuracy: 0.6677304964539008\tAverage Loss: 2663.445600626168\n",
      "Epoch 11:\n",
      "\tTrain: Average Accuracy: 0.787096881663113\tAverage Loss: 2631.9820570464867\n",
      "\tTest: Average Accuracy: 0.6771054964539008\tAverage Loss: 2650.03627909637\n",
      "Epoch 12:\n",
      "\tTrain: Average Accuracy: 0.7945429104477612\tAverage Loss: 2619.877309836749\n",
      "\tTest: Average Accuracy: 0.6852171985815604\tAverage Loss: 2640.0532525030094\n",
      "Epoch 13:\n",
      "\tTrain: Average Accuracy: 0.7996901652452025\tAverage Loss: 2609.407528994087\n",
      "\tTest: Average Accuracy: 0.6926640070921987\tAverage Loss: 2629.3193222924147\n",
      "Epoch 14:\n",
      "\tTrain: Average Accuracy: 0.8052372068230277\tAverage Loss: 2601.18645751077\n",
      "\tTest: Average Accuracy: 0.6980718085106383\tAverage Loss: 2618.3054980986267\n",
      "Epoch 15:\n",
      "\tTrain: Average Accuracy: 0.8101679104477612\tAverage Loss: 2593.4406094274664\n",
      "\tTest: Average Accuracy: 0.7020390070921987\tAverage Loss: 2610.7083225025895\n",
      "Epoch 16:\n",
      "\tTrain: Average Accuracy: 0.8142157515991472\tAverage Loss: 2586.9259947193736\n",
      "\tTest: Average Accuracy: 0.708200354609929\tAverage Loss: 2606.8570221835876\n",
      "Epoch 17:\n",
      "\tTrain: Average Accuracy: 0.8182136194029851\tAverage Loss: 2581.8792200563603\n",
      "\tTest: Average Accuracy: 0.7107269503546099\tAverage Loss: 2610.025764254128\n",
      "Epoch 18:\n",
      "\tTrain: Average Accuracy: 0.8211287313432836\tAverage Loss: 2576.6555972000488\n",
      "\tTest: Average Accuracy: 0.7131427304964539\tAverage Loss: 2595.710153295641\n",
      "Epoch 19:\n",
      "\tTrain: Average Accuracy: 0.8240771588486141\tAverage Loss: 2571.16109633703\n",
      "\tTest: Average Accuracy: 0.7165336879432624\tAverage Loss: 2592.1977192090676\n",
      "Epoch 20:\n",
      "\tTrain: Average Accuracy: 0.8266591151385928\tAverage Loss: 2565.152291139689\n",
      "\tTest: Average Accuracy: 0.7143173758865248\tAverage Loss: 2592.2957020297586\n"
     ]
    }
   ],
   "source": [
    "BATCH_SIZE = 64\n",
    "TRAINLOADER = Dataloader(df, dfl, 20, batch_size = BATCH_SIZE, shuffle=True)\n",
    "TESTLOADER = Dataloader(dft, dftl, 20, batch_size = BATCH_SIZE, shuffle=True)\n",
    "sample(784, 0.001, 20, Sigmoid(), Identical(), 'uniform', TRAINLOADER, TESTLOADER, 40, 20)"
   ]
  },
  {
   "cell_type": "code",
   "execution_count": 417,
   "metadata": {},
   "outputs": [
    {
     "name": "stdout",
     "output_type": "stream",
     "text": [
      "Epoch 1:\n",
      "\tTrain: Average Accuracy: 0.10974147121535181\tAverage Loss: 3585.2095349865976\n",
      "\tTest: Average Accuracy: 0.20334663120567373\tAverage Loss: 3207.0700541880733\n",
      "Epoch 2:\n",
      "\tTrain: Average Accuracy: 0.43656716417910446\tAverage Loss: 2941.4996372564124\n",
      "\tTest: Average Accuracy: 0.4674867021276596\tAverage Loss: 2714.213781988893\n",
      "Epoch 3:\n",
      "\tTrain: Average Accuracy: 0.652235474413646\tAverage Loss: 2577.8859401870527\n",
      "\tTest: Average Accuracy: 0.59375\tAverage Loss: 2510.7282659838074\n",
      "Epoch 4:\n",
      "\tTrain: Average Accuracy: 0.730460421108742\tAverage Loss: 2453.5699539756392\n",
      "\tTest: Average Accuracy: 0.620811170212766\tAverage Loss: 2468.8363544477297\n",
      "Epoch 5:\n",
      "\tTrain: Average Accuracy: 0.7524320362473348\tAverage Loss: 2410.4832479309325\n",
      "\tTest: Average Accuracy: 0.6444813829787234\tAverage Loss: 2418.894071451527\n",
      "Epoch 6:\n",
      "\tTrain: Average Accuracy: 0.765674973347548\tAverage Loss: 2368.3095898263778\n",
      "\tTest: Average Accuracy: 0.654122340425532\tAverage Loss: 2393.856474401336\n",
      "Epoch 7:\n",
      "\tTrain: Average Accuracy: 0.777352078891258\tAverage Loss: 2331.1262979266385\n",
      "\tTest: Average Accuracy: 0.6649379432624114\tAverage Loss: 2348.0765528709208\n",
      "Epoch 8:\n",
      "\tTrain: Average Accuracy: 0.7845648987206824\tAverage Loss: 2300.892632331903\n",
      "\tTest: Average Accuracy: 0.6653368794326242\tAverage Loss: 2302.417577012217\n",
      "Epoch 9:\n",
      "\tTrain: Average Accuracy: 0.7903951226012793\tAverage Loss: 2268.088888644266\n",
      "\tTest: Average Accuracy: 0.6753102836879433\tAverage Loss: 2289.0641742521543\n",
      "Epoch 10:\n",
      "\tTrain: Average Accuracy: 0.7972914445628998\tAverage Loss: 2245.8583941568\n",
      "\tTest: Average Accuracy: 0.68082890070922\tAverage Loss: 2260.069228938524\n",
      "Epoch 11:\n",
      "\tTrain: Average Accuracy: 0.8022554637526652\tAverage Loss: 2219.07891130826\n",
      "\tTest: Average Accuracy: 0.6845966312056737\tAverage Loss: 2219.1986846298328\n",
      "Epoch 12:\n",
      "\tTrain: Average Accuracy: 0.8089352345415778\tAverage Loss: 2196.8277312546556\n",
      "\tTest: Average Accuracy: 0.691799645390071\tAverage Loss: 2234.194303523499\n",
      "Epoch 13:\n",
      "\tTrain: Average Accuracy: 0.814349013859275\tAverage Loss: 2169.015260139004\n",
      "\tTest: Average Accuracy: 0.6915336879432625\tAverage Loss: 2197.0857016931063\n",
      "Epoch 14:\n",
      "\tTrain: Average Accuracy: 0.8172308102345416\tAverage Loss: 2152.1567087347617\n",
      "\tTest: Average Accuracy: 0.700953014184397\tAverage Loss: 2206.7248845549957\n",
      "Epoch 15:\n",
      "\tTrain: Average Accuracy: 0.8219616204690832\tAverage Loss: 2138.1011211403525\n",
      "\tTest: Average Accuracy: 0.7048758865248226\tAverage Loss: 2142.1036318181204\n",
      "Epoch 16:\n",
      "\tTrain: Average Accuracy: 0.8257595948827292\tAverage Loss: 2123.949267481692\n",
      "\tTest: Average Accuracy: 0.708200354609929\tAverage Loss: 2173.112682148601\n",
      "Epoch 17:\n",
      "\tTrain: Average Accuracy: 0.8297741204690832\tAverage Loss: 2109.379877530164\n",
      "\tTest: Average Accuracy: 0.7118794326241136\tAverage Loss: 2157.659437998502\n",
      "Epoch 18:\n",
      "\tTrain: Average Accuracy: 0.8342717217484008\tAverage Loss: 2099.2706629399077\n",
      "\tTest: Average Accuracy: 0.7078235815602838\tAverage Loss: 2125.352018254225\n",
      "Epoch 19:\n",
      "\tTrain: Average Accuracy: 0.8366537846481876\tAverage Loss: 2091.094710135742\n",
      "\tTest: Average Accuracy: 0.7174645390070923\tAverage Loss: 2131.1627726949578\n",
      "Epoch 20:\n",
      "\tTrain: Average Accuracy: 0.8393856609808102\tAverage Loss: 2083.6261964935147\n",
      "\tTest: Average Accuracy: 0.7197030141843971\tAverage Loss: 2137.14464193265\n"
     ]
    }
   ],
   "source": [
    "BATCH_SIZE = 64\n",
    "TRAINLOADER = Dataloader(df, dfl, 20, batch_size = BATCH_SIZE, shuffle=True)\n",
    "TESTLOADER = Dataloader(dft, dftl, 20, batch_size = BATCH_SIZE, shuffle=True)\n",
    "sample(784, 0.001, 20, Tanh(), Identical(), 'uniform', TRAINLOADER, TESTLOADER, 40, 20)"
   ]
  },
  {
   "cell_type": "code",
   "execution_count": 423,
   "metadata": {},
   "outputs": [
    {
     "name": "stdout",
     "output_type": "stream",
     "text": [
      "Epoch 1:\n",
      "\tTrain: Average Accuracy: 0.5901352611940298\tAverage Loss: 7431.600145668082\n",
      "\tTest: Average Accuracy: 0.6344193262411348\tAverage Loss: 6387.3190304486025\n",
      "Epoch 2:\n",
      "\tTrain: Average Accuracy: 0.7698560767590619\tAverage Loss: 6047.014638945613\n",
      "\tTest: Average Accuracy: 0.6910460992907801\tAverage Loss: 5484.821266252391\n",
      "Epoch 3:\n",
      "\tTrain: Average Accuracy: 0.8095015991471215\tAverage Loss: 5449.234250346142\n",
      "\tTest: Average Accuracy: 0.7122783687943263\tAverage Loss: 5099.62674474823\n",
      "Epoch 4:\n",
      "\tTrain: Average Accuracy: 0.8309401652452025\tAverage Loss: 5114.824838917806\n",
      "\tTest: Average Accuracy: 0.7291001773049646\tAverage Loss: 4932.614818025825\n",
      "Epoch 5:\n",
      "\tTrain: Average Accuracy: 0.8464319029850746\tAverage Loss: 4987.768675827991\n",
      "\tTest: Average Accuracy: 0.7516179078014184\tAverage Loss: 4790.603063907494\n",
      "Epoch 6:\n",
      "\tTrain: Average Accuracy: 0.8569596215351812\tAverage Loss: 4877.960565929093\n",
      "\tTest: Average Accuracy: 0.7582668439716311\tAverage Loss: 4743.516688105999\n",
      "Epoch 7:\n",
      "\tTrain: Average Accuracy: 0.8659881396588486\tAverage Loss: 4882.710861445339\n",
      "\tTest: Average Accuracy: 0.7668439716312055\tAverage Loss: 4810.774468580689\n",
      "Epoch 8:\n",
      "\tTrain: Average Accuracy: 0.8718849946695096\tAverage Loss: 4918.451420540692\n",
      "\tTest: Average Accuracy: 0.7736702127659575\tAverage Loss: 4793.30063136169\n",
      "Epoch 9:\n",
      "\tTrain: Average Accuracy: 0.8755830223880597\tAverage Loss: 4954.758115896435\n",
      "\tTest: Average Accuracy: 0.7761081560283689\tAverage Loss: 4751.492545528567\n",
      "Epoch 10:\n",
      "\tTrain: Average Accuracy: 0.8798307569296375\tAverage Loss: 4951.980197858852\n",
      "\tTest: Average Accuracy: 0.7809397163120566\tAverage Loss: 4828.10754798341\n",
      "Epoch 11:\n",
      "\tTrain: Average Accuracy: 0.8840784914712153\tAverage Loss: 4954.074767220152\n",
      "\tTest: Average Accuracy: 0.7795656028368795\tAverage Loss: 4862.644447058246\n",
      "Epoch 12:\n",
      "\tTrain: Average Accuracy: 0.8879764125799574\tAverage Loss: 5004.657462029367\n",
      "\tTest: Average Accuracy: 0.7838209219858157\tAverage Loss: 4843.125135653688\n",
      "Epoch 13:\n",
      "\tTrain: Average Accuracy: 0.8911747068230277\tAverage Loss: 5021.057871909806\n",
      "\tTest: Average Accuracy: 0.7873670212765957\tAverage Loss: 4886.507596497599\n",
      "Epoch 14:\n",
      "\tTrain: Average Accuracy: 0.8924240405117271\tAverage Loss: 5041.740293590068\n",
      "\tTest: Average Accuracy: 0.7892952127659575\tAverage Loss: 4936.315386713003\n",
      "Epoch 15:\n",
      "\tTrain: Average Accuracy: 0.89457289445629\tAverage Loss: 5061.620915078729\n",
      "\tTest: Average Accuracy: 0.7901595744680852\tAverage Loss: 4851.078344591462\n",
      "Epoch 16:\n",
      "\tTrain: Average Accuracy: 0.8968050373134329\tAverage Loss: 5048.463089688768\n",
      "\tTest: Average Accuracy: 0.7936170212765957\tAverage Loss: 4848.104945336376\n",
      "Epoch 17:\n",
      "\tTrain: Average Accuracy: 0.8988706023454158\tAverage Loss: 5076.063118843966\n",
      "\tTest: Average Accuracy: 0.7940381205673758\tAverage Loss: 4909.875841966761\n",
      "Epoch 18:\n",
      "\tTrain: Average Accuracy: 0.9004864072494669\tAverage Loss: 5058.928272372293\n",
      "\tTest: Average Accuracy: 0.792265070921986\tAverage Loss: 5016.706659055848\n",
      "Epoch 19:\n",
      "\tTrain: Average Accuracy: 0.9026852345415778\tAverage Loss: 5089.928512475685\n",
      "\tTest: Average Accuracy: 0.7944148936170212\tAverage Loss: 5021.4384099818635\n",
      "Epoch 20:\n",
      "\tTrain: Average Accuracy: 0.9048674040511727\tAverage Loss: 5103.393367602072\n",
      "\tTest: Average Accuracy: 0.7971631205673758\tAverage Loss: 4997.491597589403\n"
     ]
    }
   ],
   "source": [
    "BATCH_SIZE = 64\n",
    "TRAINLOADER = Dataloader(df, dfl, 20, batch_size = BATCH_SIZE, shuffle=True)\n",
    "TESTLOADER = Dataloader(dft, dftl, 20, batch_size = BATCH_SIZE, shuffle=True)\n",
    "sample(784, 0.001, 20, LeakyRelu(), Identical(), 'uniform', TRAINLOADER, TESTLOADER, 40, 20)"
   ]
  },
  {
   "cell_type": "markdown",
   "metadata": {},
   "source": [
    "برتری لیکی ریلو به ریلو این است که ما در ریلو مقادیر منفی را نادیده میگیریم و تبدیل به صفر میکنیم که این باعث میشود دقت کار ما پایین بیاید\n",
    "\n",
    "ولی در لیکی ریلو مقادیر منفی را در عددی ضرب میکنیم تا آن ها را نیز داشته باشیم و تاثیر خودشون رو روی عمل ما بگذارند درنتیجه دقت بهتری خواهیم داشت"
   ]
  },
  {
   "cell_type": "markdown",
   "metadata": {},
   "source": [
    "بهترین نتیجه رو لیکی ریلو به ما داد"
   ]
  },
  {
   "cell_type": "markdown",
   "metadata": {},
   "source": [
    "## قسمت پنجم) تاثیر batch size"
   ]
  },
  {
   "cell_type": "code",
   "execution_count": 424,
   "metadata": {},
   "outputs": [
    {
     "name": "stdout",
     "output_type": "stream",
     "text": [
      "Epoch 1:\n",
      "\tTrain: Average Accuracy: 0.5887333333333333\tAverage Loss: 2322.089914243306\n",
      "\tTest: Average Accuracy: 0.6323294243070362\tAverage Loss: 1893.2405100436051\n",
      "Epoch 2:\n",
      "\tTrain: Average Accuracy: 0.76345\tAverage Loss: 1787.4103595920299\n",
      "\tTest: Average Accuracy: 0.6773054371002132\tAverage Loss: 1547.9043217928715\n",
      "Epoch 3:\n",
      "\tTrain: Average Accuracy: 0.7967\tAverage Loss: 1509.1523175774596\n",
      "\tTest: Average Accuracy: 0.7053571428571429\tAverage Loss: 1354.5725661685028\n",
      "Epoch 4:\n",
      "\tTrain: Average Accuracy: 0.81815\tAverage Loss: 1373.677264900904\n",
      "\tTest: Average Accuracy: 0.7222148187633263\tAverage Loss: 1300.2448503839398\n",
      "Epoch 5:\n",
      "\tTrain: Average Accuracy: 0.8357\tAverage Loss: 1311.6138680402444\n",
      "\tTest: Average Accuracy: 0.7365405117270789\tAverage Loss: 1256.7310233734624\n",
      "Epoch 6:\n",
      "\tTrain: Average Accuracy: 0.8479166666666667\tAverage Loss: 1291.411322642425\n",
      "\tTest: Average Accuracy: 0.7482675906183369\tAverage Loss: 1215.126314728297\n",
      "Epoch 7:\n",
      "\tTrain: Average Accuracy: 0.85815\tAverage Loss: 1272.2497908223097\n",
      "\tTest: Average Accuracy: 0.7610607675906184\tAverage Loss: 1205.369014228392\n",
      "Epoch 8:\n",
      "\tTrain: Average Accuracy: 0.8674\tAverage Loss: 1256.4412982120082\n",
      "\tTest: Average Accuracy: 0.7692563965884861\tAverage Loss: 1224.7944664162408\n",
      "Epoch 9:\n",
      "\tTrain: Average Accuracy: 0.8746833333333334\tAverage Loss: 1260.0795633842035\n",
      "\tTest: Average Accuracy: 0.7749866737739872\tAverage Loss: 1240.5017433584985\n",
      "Epoch 10:\n",
      "\tTrain: Average Accuracy: 0.8795833333333334\tAverage Loss: 1261.7057418736204\n",
      "\tTest: Average Accuracy: 0.7817164179104478\tAverage Loss: 1230.6388672872904\n",
      "Epoch 11:\n",
      "\tTrain: Average Accuracy: 0.8836\tAverage Loss: 1267.244060749485\n",
      "\tTest: Average Accuracy: 0.783248933901919\tAverage Loss: 1210.746434991102\n",
      "Epoch 12:\n",
      "\tTrain: Average Accuracy: 0.8871166666666667\tAverage Loss: 1260.1648958674064\n",
      "\tTest: Average Accuracy: 0.7867137526652452\tAverage Loss: 1220.9009536142623\n",
      "Epoch 13:\n",
      "\tTrain: Average Accuracy: 0.8912833333333333\tAverage Loss: 1265.7068858108235\n",
      "\tTest: Average Accuracy: 0.7905117270788913\tAverage Loss: 1213.140500225959\n",
      "Epoch 14:\n",
      "\tTrain: Average Accuracy: 0.8934166666666666\tAverage Loss: 1265.3614586025844\n",
      "\tTest: Average Accuracy: 0.7912446695095949\tAverage Loss: 1207.4993001995392\n",
      "Epoch 15:\n",
      "\tTrain: Average Accuracy: 0.8967833333333334\tAverage Loss: 1256.439494370942\n",
      "\tTest: Average Accuracy: 0.7943097014925373\tAverage Loss: 1200.6219268555285\n",
      "Epoch 16:\n",
      "\tTrain: Average Accuracy: 0.8985666666666666\tAverage Loss: 1259.4942790031523\n",
      "\tTest: Average Accuracy: 0.7911114072494669\tAverage Loss: 1204.1621039357449\n",
      "Epoch 17:\n",
      "\tTrain: Average Accuracy: 0.9025333333333333\tAverage Loss: 1255.6376098816465\n",
      "\tTest: Average Accuracy: 0.7968416844349681\tAverage Loss: 1203.6961121968964\n",
      "Epoch 18:\n",
      "\tTrain: Average Accuracy: 0.90535\tAverage Loss: 1253.6596968023737\n",
      "\tTest: Average Accuracy: 0.7922441364605544\tAverage Loss: 1217.0883779551664\n",
      "Epoch 19:\n",
      "\tTrain: Average Accuracy: 0.9062833333333333\tAverage Loss: 1256.1562387236759\n",
      "\tTest: Average Accuracy: 0.7982409381663113\tAverage Loss: 1223.6589659115639\n",
      "Epoch 20:\n",
      "\tTrain: Average Accuracy: 0.9073333333333333\tAverage Loss: 1259.5021531343896\n",
      "\tTest: Average Accuracy: 0.7939765458422174\tAverage Loss: 1237.7464333147302\n"
     ]
    }
   ],
   "source": [
    "BATCH_SIZE = 16\n",
    "TRAINLOADER = Dataloader(df, dfl, 20, batch_size = BATCH_SIZE, shuffle=True)\n",
    "TESTLOADER = Dataloader(dft, dftl, 20, batch_size = BATCH_SIZE, shuffle=True)\n",
    "sample(784, 0.001, 20, LeakyRelu(), Identical(), 'uniform', TRAINLOADER, TESTLOADER, 40, 20)"
   ]
  },
  {
   "cell_type": "code",
   "execution_count": 425,
   "metadata": {},
   "outputs": [
    {
     "name": "stdout",
     "output_type": "stream",
     "text": [
      "Epoch 1:\n",
      "\tTrain: Average Accuracy: 0.5888333333333333\tAverage Loss: 4467.742858416469\n",
      "\tTest: Average Accuracy: 0.6294420753375977\tAverage Loss: 3683.833466223259\n",
      "Epoch 2:\n",
      "\tTrain: Average Accuracy: 0.76485\tAverage Loss: 3477.691483004558\n",
      "\tTest: Average Accuracy: 0.689521144278607\tAverage Loss: 3065.737591141528\n",
      "Epoch 3:\n",
      "\tTrain: Average Accuracy: 0.80055\tAverage Loss: 3018.1536024044017\n",
      "\tTest: Average Accuracy: 0.7155961265103056\tAverage Loss: 2771.9346395409534\n",
      "Epoch 4:\n",
      "\tTrain: Average Accuracy: 0.8228666666666666\tAverage Loss: 2755.9466995686244\n",
      "\tTest: Average Accuracy: 0.7270788912579957\tAverage Loss: 2530.957886826783\n",
      "Epoch 5:\n",
      "\tTrain: Average Accuracy: 0.8403333333333334\tAverage Loss: 2606.5405582954913\n",
      "\tTest: Average Accuracy: 0.7427372068230277\tAverage Loss: 2410.750106049521\n",
      "Epoch 6:\n",
      "\tTrain: Average Accuracy: 0.8519333333333333\tAverage Loss: 2515.0928014067254\n",
      "\tTest: Average Accuracy: 0.759883617626155\tAverage Loss: 2414.8940222876704\n",
      "Epoch 7:\n",
      "\tTrain: Average Accuracy: 0.8616166666666667\tAverage Loss: 2502.0196659264275\n",
      "\tTest: Average Accuracy: 0.7680348258706468\tAverage Loss: 2358.0579324717787\n",
      "Epoch 8:\n",
      "\tTrain: Average Accuracy: 0.8702333333333333\tAverage Loss: 2475.334539895042\n",
      "\tTest: Average Accuracy: 0.7725657427149965\tAverage Loss: 2365.41330943607\n",
      "Epoch 9:\n",
      "\tTrain: Average Accuracy: 0.8762833333333333\tAverage Loss: 2491.329894949313\n",
      "\tTest: Average Accuracy: 0.7779850746268657\tAverage Loss: 2407.9476222295893\n",
      "Epoch 10:\n",
      "\tTrain: Average Accuracy: 0.8808\tAverage Loss: 2499.6867570386594\n",
      "\tTest: Average Accuracy: 0.7823160980810234\tAverage Loss: 2413.9616523401514\n",
      "Epoch 11:\n",
      "\tTrain: Average Accuracy: 0.8847166666666667\tAverage Loss: 2512.4444396633407\n",
      "\tTest: Average Accuracy: 0.781294420753376\tAverage Loss: 2373.6546748539963\n",
      "Epoch 12:\n",
      "\tTrain: Average Accuracy: 0.88895\tAverage Loss: 2501.3642652611256\n",
      "\tTest: Average Accuracy: 0.7868470149253731\tAverage Loss: 2450.1055392676562\n",
      "Epoch 13:\n",
      "\tTrain: Average Accuracy: 0.8918166666666667\tAverage Loss: 2537.8391695684177\n",
      "\tTest: Average Accuracy: 0.7916222459132907\tAverage Loss: 2451.970208723399\n",
      "Epoch 14:\n",
      "\tTrain: Average Accuracy: 0.8951\tAverage Loss: 2545.826658644089\n",
      "\tTest: Average Accuracy: 0.7865138592750534\tAverage Loss: 2439.307870325126\n",
      "Epoch 15:\n",
      "\tTrain: Average Accuracy: 0.8964333333333333\tAverage Loss: 2541.769882267533\n",
      "\tTest: Average Accuracy: 0.7909337242359631\tAverage Loss: 2478.108056149207\n",
      "Epoch 16:\n",
      "\tTrain: Average Accuracy: 0.8988333333333334\tAverage Loss: 2575.061182805583\n",
      "\tTest: Average Accuracy: 0.7944651741293532\tAverage Loss: 2440.8277868464024\n",
      "Epoch 17:\n",
      "\tTrain: Average Accuracy: 0.9025333333333333\tAverage Loss: 2569.5353951045286\n",
      "\tTest: Average Accuracy: 0.7998622956645345\tAverage Loss: 2469.917196781297\n",
      "Epoch 18:\n",
      "\tTrain: Average Accuracy: 0.9041\tAverage Loss: 2580.9023224128982\n",
      "\tTest: Average Accuracy: 0.7974413646055437\tAverage Loss: 2520.5382982313063\n",
      "Epoch 19:\n",
      "\tTrain: Average Accuracy: 0.9057666666666667\tAverage Loss: 2602.5786610472182\n",
      "\tTest: Average Accuracy: 0.8011282871357499\tAverage Loss: 2512.0245646645985\n",
      "Epoch 20:\n",
      "\tTrain: Average Accuracy: 0.9077333333333333\tAverage Loss: 2603.6517131516816\n",
      "\tTest: Average Accuracy: 0.7978189410092394\tAverage Loss: 2486.3939430680944\n"
     ]
    }
   ],
   "source": [
    "BATCH_SIZE = 32\n",
    "TRAINLOADER = Dataloader(df, dfl, 20, batch_size = BATCH_SIZE, shuffle=True)\n",
    "TESTLOADER = Dataloader(dft, dftl, 20, batch_size = BATCH_SIZE, shuffle=True)\n",
    "sample(784, 0.001, 20, LeakyRelu(), Identical(), 'uniform', TRAINLOADER, TESTLOADER, 40, 20)"
   ]
  },
  {
   "cell_type": "code",
   "execution_count": 426,
   "metadata": {},
   "outputs": [
    {
     "name": "stdout",
     "output_type": "stream",
     "text": [
      "Epoch 1:\n",
      "\tTrain: Average Accuracy: 0.3885859929078014\tAverage Loss: 3850.8325516853083\n",
      "\tTest: Average Accuracy: 0.5118302575825157\tAverage Loss: 4818.280042214114\n",
      "Epoch 2:\n",
      "\tTrain: Average Accuracy: 0.6563718971631205\tAverage Loss: 5375.676879380804\n",
      "\tTest: Average Accuracy: 0.5653085972346119\tAverage Loss: 5362.10478303904\n",
      "Epoch 3:\n",
      "\tTrain: Average Accuracy: 0.690237145390071\tAverage Loss: 5752.565535857146\n",
      "\tTest: Average Accuracy: 0.5962414975468332\tAverage Loss: 5671.955040509041\n",
      "Epoch 4:\n",
      "\tTrain: Average Accuracy: 0.7126662234042553\tAverage Loss: 6127.02700462114\n",
      "\tTest: Average Accuracy: 0.6081693242640499\tAverage Loss: 5913.19359319678\n",
      "Epoch 5:\n",
      "\tTrain: Average Accuracy: 0.7225786790780141\tAverage Loss: 6216.833266457465\n",
      "\tTest: Average Accuracy: 0.6175777765388046\tAverage Loss: 6097.999045997953\n",
      "Epoch 6:\n",
      "\tTrain: Average Accuracy: 0.7337710549645391\tAverage Loss: 6266.3198723719015\n",
      "\tTest: Average Accuracy: 0.6310109556199821\tAverage Loss: 6184.763802646689\n",
      "Epoch 7:\n",
      "\tTrain: Average Accuracy: 0.7389073581560285\tAverage Loss: 6340.698710245225\n",
      "\tTest: Average Accuracy: 0.633523360838537\tAverage Loss: 6075.694979705816\n",
      "Epoch 8:\n",
      "\tTrain: Average Accuracy: 0.7423980496453901\tAverage Loss: 6345.364378432959\n",
      "\tTest: Average Accuracy: 0.6391928244870652\tAverage Loss: 6355.11290742985\n",
      "Epoch 9:\n",
      "\tTrain: Average Accuracy: 0.751451684397163\tAverage Loss: 6472.260195824389\n",
      "\tTest: Average Accuracy: 0.6483712923728814\tAverage Loss: 6166.109705291446\n",
      "Epoch 10:\n",
      "\tTrain: Average Accuracy: 0.7580729166666668\tAverage Loss: 6548.452938500348\n",
      "\tTest: Average Accuracy: 0.6465174788135594\tAverage Loss: 6479.87412632236\n",
      "Epoch 11:\n",
      "\tTrain: Average Accuracy: 0.7618461879432625\tAverage Loss: 6631.753977274761\n",
      "\tTest: Average Accuracy: 0.6483364462533453\tAverage Loss: 6393.918385122965\n",
      "Epoch 12:\n",
      "\tTrain: Average Accuracy: 0.7647828014184397\tAverage Loss: 6631.5561187145895\n",
      "\tTest: Average Accuracy: 0.6556820082515611\tAverage Loss: 6136.858419845163\n",
      "Epoch 13:\n",
      "\tTrain: Average Accuracy: 0.7683676861702128\tAverage Loss: 6618.574610486778\n",
      "\tTest: Average Accuracy: 0.6545982939339875\tAverage Loss: 6348.687196602391\n",
      "Epoch 14:\n",
      "\tTrain: Average Accuracy: 0.7700022163120567\tAverage Loss: 6622.976314714059\n",
      "\tTest: Average Accuracy: 0.6536783563782337\tAverage Loss: 6595.586832221042\n",
      "Epoch 15:\n",
      "\tTrain: Average Accuracy: 0.7719137854609929\tAverage Loss: 6644.347340365883\n",
      "\tTest: Average Accuracy: 0.6574487065120428\tAverage Loss: 6338.329051920552\n",
      "Epoch 16:\n",
      "\tTrain: Average Accuracy: 0.7740026595744681\tAverage Loss: 6605.985501386122\n",
      "\tTest: Average Accuracy: 0.6598705118198037\tAverage Loss: 6432.4067939809975\n",
      "Epoch 17:\n",
      "\tTrain: Average Accuracy: 0.7739971187943263\tAverage Loss: 6574.541892949532\n",
      "\tTest: Average Accuracy: 0.6583268287243532\tAverage Loss: 6274.664994303042\n",
      "Epoch 18:\n",
      "\tTrain: Average Accuracy: 0.7763851950354609\tAverage Loss: 6500.595266410701\n",
      "\tTest: Average Accuracy: 0.6634526929081177\tAverage Loss: 6382.882012501656\n",
      "Epoch 19:\n",
      "\tTrain: Average Accuracy: 0.7777039007092199\tAverage Loss: 6494.817086508777\n",
      "\tTest: Average Accuracy: 0.6570897914808206\tAverage Loss: 6374.328402812022\n",
      "Epoch 20:\n",
      "\tTrain: Average Accuracy: 0.7782856826241136\tAverage Loss: 6427.2103286989095\n",
      "\tTest: Average Accuracy: 0.6615779716770741\tAverage Loss: 6205.641248855242\n"
     ]
    }
   ],
   "source": [
    "BATCH_SIZE = 256\n",
    "TRAINLOADER = Dataloader(df, dfl, 20, batch_size = BATCH_SIZE, shuffle=True)\n",
    "TESTLOADER = Dataloader(dft, dftl, 20, batch_size = BATCH_SIZE, shuffle=True)\n",
    "sample(784, 0.001, 20, LeakyRelu(), Identical(), 'uniform', TRAINLOADER, TESTLOADER, 40, 20)"
   ]
  },
  {
   "cell_type": "markdown",
   "metadata": {},
   "source": [
    "مزایای بچ سایز کوچک این است که سرعت خوبی میگیریم ولی جواب خوبی نمیگیریم برای اینکه تمام محاسبات بر اساس یک بخش کوچکی صورت میگیرند\n",
    "\n",
    "ولی بچ سایز بزرگتر نتیجه بهتری به ما میده ولی سرعت کم تری دارد"
   ]
  }
 ],
 "metadata": {
  "kernelspec": {
   "display_name": "Python 3",
   "language": "python",
   "name": "python3"
  },
  "language_info": {
   "codemirror_mode": {
    "name": "ipython",
    "version": 3
   },
   "file_extension": ".py",
   "mimetype": "text/x-python",
   "name": "python",
   "nbconvert_exporter": "python",
   "pygments_lexer": "ipython3",
   "version": "3.7.6"
  }
 },
 "nbformat": 4,
 "nbformat_minor": 4
}
